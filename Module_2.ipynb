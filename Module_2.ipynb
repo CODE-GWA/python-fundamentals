{
  "nbformat": 4,
  "nbformat_minor": 0,
  "metadata": {
    "anaconda-cloud": {},
    "kernelspec": {
      "display_name": "Python 3",
      "language": "python",
      "name": "python3"
    },
    "language_info": {
      "codemirror_mode": {
        "name": "ipython",
        "version": 3
      },
      "file_extension": ".py",
      "mimetype": "text/x-python",
      "name": "python",
      "nbconvert_exporter": "python",
      "pygments_lexer": "ipython3",
      "version": "3.5.1"
    },
    "colab": {
      "name": "Module 2",
      "provenance": [],
      "include_colab_link": true
    }
  },
  "cells": [
    {
      "cell_type": "markdown",
      "metadata": {
        "id": "view-in-github",
        "colab_type": "text"
      },
      "source": [
        "<a href=\"https://colab.research.google.com/github/CODE-GWA/python-fundamentals-student/blob/master/Module_2.ipynb\" target=\"_parent\"><img src=\"https://colab.research.google.com/assets/colab-badge.svg\" alt=\"Open In Colab\"/></a>"
      ]
    },
    {
      "cell_type": "markdown",
      "metadata": {
        "collapsed": true,
        "id": "6g6E4oqlNuzX"
      },
      "source": [
        "# 2 Intro Python\n",
        "## Strings: input, testing, formatting\n",
        "- **input() - gathering user input**  \n",
        "- print() formatting \n",
        "- Quotes inside strings\n",
        "- Boolean string tests methods\n",
        "- String formatting methods\n",
        "- Formatting string input()\n",
        "- Boolean `in` keyword \n"
      ]
    },
    {
      "cell_type": "markdown",
      "metadata": {
        "collapsed": true,
        "id": "xNoU8ocBNuzY"
      },
      "source": [
        "# &nbsp;  \n",
        "<font size=\"6\" color=\"#00A0B2\"  face=\"verdana\"> <B>Concepts</B></font> \n",
        "\n",
        "## input()  \n",
        "### get information from users with `input()`  \n",
        "the **`input()`** function prompts the user to supply data returning that data as a string\n"
      ]
    },
    {
      "cell_type": "markdown",
      "metadata": {
        "id": "w-qH-azYNuzY"
      },
      "source": [
        "<font size=\"6\" color=\"#00A0B2\"  face=\"verdana\"> <B>Examples</B></font>  "
      ]
    },
    {
      "cell_type": "code",
      "metadata": {
        "id": "SDHJDO9ONuzZ"
      },
      "source": [
        "# review and run code - enter a small integer in the text box\n"
      ],
      "execution_count": null,
      "outputs": []
    },
    {
      "cell_type": "markdown",
      "metadata": {
        "id": "t8oeWdSRNuzc"
      },
      "source": [
        "# &nbsp;\n",
        "<font size=\"6\" color=\"#B24C00\"  face=\"verdana\"> <B>Task 1.1</B></font>\n",
        "## storing input in a variable\n",
        "- **[ ]** create code to store input in student_name variable  \n",
        "an input box should when run\n",
        "- **[ ]** type a name in the input box and press **Enter**\n",
        "- **[ ]** determine the **`type()`** of **student_name**"
      ]
    },
    {
      "cell_type": "code",
      "metadata": {
        "id": "w7MociLNNuzd"
      },
      "source": [
        "# [ ] get input for the variable student_name\n",
        "\n",
        "\n",
        "# [ ] determine the type of student_name\n",
        "\n",
        "\n"
      ],
      "execution_count": null,
      "outputs": []
    },
    {
      "cell_type": "markdown",
      "metadata": {
        "id": "pnDwXic-Nuzf"
      },
      "source": [
        "<font size=\"6\" color=\"#B24C00\"  face=\"verdana\"> <B>Task 1.2</B></font>\n",
        "> **note**: **`input()`** returns a string (type = str) regardless of entry\n",
        "- if a string is entered **`input()`** returns a string\n",
        "- if a number is entered **`input()`** returns a string  \n",
        "  \n",
        "- **[ ]** determine the **`type()`**  of input below by entering\n",
        "  - a name\n",
        "  - an integer (whole number no decimal)\n",
        "  - a float a number with a decimal point"
      ]
    },
    {
      "cell_type": "code",
      "metadata": {
        "id": "Tm-CLR65Nuzg"
      },
      "source": [
        "# [ ] run cell several times entering a name a int number and a float number after adding code below\n",
        "\n",
        "# [ ] insert code below to check the type of test_input\n"
      ],
      "execution_count": null,
      "outputs": []
    },
    {
      "cell_type": "markdown",
      "metadata": {
        "id": "sxuDkxXJNuzi"
      },
      "source": [
        "# &nbsp;\n",
        "<font size=\"6\" color=\"#00A0B2\"  face=\"verdana\"> <B>Concepts</B></font>  \n",
        "### user prompts using `input()`\n",
        "\n",
        "the **`input()`** function has an optional string argument which displays the string intended to inform a user what to enter  \n",
        "**`input()`** works similar to **`print()`**&nbsp;in the way it displays arguments as output  "
      ]
    },
    {
      "cell_type": "markdown",
      "metadata": {
        "id": "_INQewA2Nuzi"
      },
      "source": [
        "# &nbsp;\n",
        "<font size=\"6\" color=\"#00A0B2\"  face=\"verdana\"> <B>Examples</B></font>"
      ]
    },
    {
      "cell_type": "code",
      "metadata": {
        "id": "lvULAcerNuzj"
      },
      "source": [
        "student_name = input(\"enter the student name: \")  \n",
        "print(\"Hi \" + student_name)"
      ],
      "execution_count": null,
      "outputs": []
    },
    {
      "cell_type": "markdown",
      "metadata": {
        "id": "nwLE3yqdNuzl"
      },
      "source": [
        "# &nbsp;\n",
        "<font size=\"6\" color=\"#B24C00\"  face=\"verdana\"> <B>Task 2</B></font>  \n",
        "## prompting the user for input\n",
        "- **[ ]** create prompts for name, age and yes/no to being on an email list\n",
        "- **[ ]** create variables to store these three inputs\n",
        "- **[ ]** print description + input values   \n",
        "\n",
        ">example print output:  \n",
        "`name = Alton`  \n",
        "`age =  17`  \n",
        "`wants email = yes`  \n",
        "  \n",
        "**tip**: with multiple input statements, after each prompt, **click 'in' the input box** to continue entering input "
      ]
    },
    {
      "cell_type": "code",
      "metadata": {
        "id": "jos2F6M2Nuzo"
      },
      "source": [
        "# [ ]create variables to store input: name, age, get_mail with prompts\n",
        "# for name, age and yes/no to being on an email list\n",
        "\n",
        "\n",
        "# [ ] print a description + variable value for each variable\n",
        "\n"
      ],
      "execution_count": null,
      "outputs": []
    },
    {
      "cell_type": "markdown",
      "metadata": {
        "id": "uBozqXdmDaQe"
      },
      "source": [
        "# &nbsp;\n",
        "<font size=\"6\" color=\"#00A0B2\"  face=\"verdana\"> <B>Concepts</B></font>  \n",
        "## comma print formatting\n",
        "### print() comma separated strings   \n",
        "**`print()`** provides the use of **commas** in addition to **string addition** to combine strings for output. Commas will separate strings with a space by default unlike addition.\n",
        "- **`print()`**  using comma separation can mix numbers (int & float) and strings without a TypeError\n",
        "- **[ ]** use a **`print()`** function with comma separation to combine 2 numbers and 2 strings"
      ]
    },
    {
      "cell_type": "markdown",
      "metadata": {
        "id": "xTO9qTd_YyGN"
      },
      "source": [
        "# &nbsp;\n",
        "<font size=\"6\" color=\"#00A0B2\"  face=\"verdana\"> <B>Examples</B></font>"
      ]
    },
    {
      "cell_type": "code",
      "metadata": {
        "id": "dINVFMwgYzpc"
      },
      "source": [
        "# review and run code\n",
        "\n",
        "\n",
        "# string addition \n",
        "\n",
        "# comma separation formatting\n"
      ],
      "execution_count": null,
      "outputs": []
    },
    {
      "cell_type": "markdown",
      "metadata": {
        "id": "QCOkE9pXGLjY"
      },
      "source": [
        "# &nbsp;\n",
        "<font size=\"6\" color=\"#B24C00\"  face=\"verdana\"> <B>Task 3</B></font>  \n",
        "**use a print() function with comma separation to combine 2 numbers and 2 strings**"
      ]
    },
    {
      "cell_type": "code",
      "metadata": {
        "id": "-e0IUz80FwlK"
      },
      "source": [
        "# [ ] use a print() function with comma separation to combine 2 numbers and 2 strings\n"
      ],
      "execution_count": null,
      "outputs": []
    },
    {
      "cell_type": "markdown",
      "metadata": {
        "id": "ysPHgNyJGg1m"
      },
      "source": [
        "<font size=\"6\" color=\"#B24C00\"  face=\"verdana\"> <B>Task 4</B></font>  \n",
        "**print() comma separated mixing of strings and variables**  \n",
        "by comma separating strings and/or string variables **`print()`** will output each separated by a space by default\n",
        "  \n",
        "**display text describing an address, made from stings and variables of different types**\n",
        "- initialize variables with input()\n",
        "  - street\n",
        "  - st_number\n",
        "- Display a message about the street and street number using comma separation formatting"
      ]
    },
    {
      "cell_type": "code",
      "metadata": {
        "id": "cYKAVWtPGpeB"
      },
      "source": [
        "# [ ] get user input for a street name in the variable, street\n",
        "\n",
        "# [ ] get user input for a street number in the variable, st_number\n",
        "\n",
        "# [ ] display a message about the street and st_number\n",
        "\n"
      ],
      "execution_count": null,
      "outputs": []
    },
    {
      "cell_type": "markdown",
      "metadata": {
        "id": "gEBkWMTVGv6s"
      },
      "source": [
        "<font size=\"6\" color=\"#B24C00\"  face=\"verdana\"> <B>Task 5</B></font>   \n",
        "## Program: How many for the training?\n",
        "Create a program that prints out a reservation for a training class.  Gather the name of the party, the number attending and the time.\n",
        ">**example** of what input/output might look like:\n",
        "```\n",
        "enter name for contact person for training group: Light Yagumi  \n",
        "enter the total number attending the course: 7  \n",
        "enter the training time selected: 3:25 PM  \n",
        "Reminder: training is schedule at 3:25 PM for the Light Yagumi group of 7 attendees  \n",
        "Please arrive 10 minutes early for the first class  \n",
        "```  \n",
        "  \n",
        "Design and Create your own reminder style  \n",
        "- **[ ]** get user input for variables:\n",
        "  - **owner**: name of person the reservation is for  \n",
        "  - **num_people**: how many are attending  \n",
        "  - **training_time**: class time\n",
        "- **[ ]** create an integer variable **min_early**: number of minutes early the party should arrive\n",
        "- **[ ]** using comma separation, print reminder text\n",
        "  - use all of the variables in the text\n",
        "  - use additional strings as needed\n",
        "  - use multiple print statements to format message on multiple lines (optional)"
      ]
    },
    {
      "cell_type": "code",
      "metadata": {
        "id": "7UWG19hIHDP9"
      },
      "source": [
        "# [ ] get input for variables: owner, num_people, training_time  - use descriptive prompt text\n",
        "\n",
        "# [ ] create a integer variable min_early and \"hard code\" the integer value (e.g. - 5, 10 or 15)\n",
        "\n",
        "# [ ] print reminder text using all variables & add additional strings -  use comma separated print formatting\n",
        "\n"
      ],
      "execution_count": null,
      "outputs": []
    },
    {
      "cell_type": "markdown",
      "metadata": {
        "id": "agp0wtvhHqCc"
      },
      "source": [
        "# &nbsp;\n",
        "<font size=\"6\" color=\"#00A0B2\"  face=\"verdana\"> <B>Concepts</B></font>  \n",
        "## quotes inside strings \n",
        "\n",
        "### single quotes in double quotes\n",
        "to display single quotes **`'`** in a string - double quotes can be used as the outer quotes: **`\"it's time\"`**\n",
        "### double quotes in single quotes\n",
        "to display double quotes **`\"`** in a string- single quotes can be used as the outer quotes: **`'Alton said \"Hello\"'`**"
      ]
    },
    {
      "cell_type": "markdown",
      "metadata": {
        "id": "T-3wTPf9IDhE"
      },
      "source": [
        " # &nbsp;\n",
        "<font size=\"6\" color=\"#B24C00\"  face=\"verdana\"> <B>Task 6</B></font>  \n",
        "- **[ ] `print()`** strings that display double and single quotation marks"
      ]
    },
    {
      "cell_type": "code",
      "metadata": {
        "id": "_ZIP0VC-IEXz"
      },
      "source": [
        "# [ ] output a quote of your choice twice; the first should be with double quotation marks, and the second should be with single quotation marks\n"
      ],
      "execution_count": null,
      "outputs": []
    },
    {
      "cell_type": "markdown",
      "metadata": {
        "id": "7MFTvyZ2IgbJ"
      },
      "source": [
        "# &nbsp;\n",
        "<font size=\"6\" color=\"orange\"  face=\"verdana\"> <B>Extension</B></font>\n",
        "## Boolean string tests\n",
        "\n",
        "\n",
        "type **`str`** has methods that return a Boolean (True or False) for different tests on the properties of stings.\n",
        "\n",
        "  \n",
        "- `.isalpha()` returns True if all characters in the string are alphabetical, otherwise returns False\n",
        "- `.isalnum()` returns True if all characters in the string are alphanumerical, otherwise returns False\n",
        "- `.istitle()` returns True if all words in the string begin with an upper-case letter AND if the subsequent letters in each words are lower-case, otherwise return False. Symbols and numbers are ignored\n",
        "- `.isdigit()` returns True if all characters in the string are numbers, otherwise returns False\n",
        "- `.islower()` returns True if all characters in the string are lower-case, otherwise returns False. Symbols and numbers are ignored\n",
        "- `.isupper()` returns True if all characters in the string are upper-case, otherwise returns False. Symbols and numbers are ignored\n",
        "\n",
        ">```python\n",
        "\"Hello\".isalpha()\n",
        "```\n",
        "out:[ ] &nbsp; &nbsp; `True`  \n"
      ]
    },
    {
      "cell_type": "code",
      "metadata": {
        "id": "Na2Itti4LlDe"
      },
      "source": [
        "# [ ] initailize variable alpha_test with input\n",
        "alpha_test = input('Enter a string to be tested: ')\n",
        "# [ ] use the above syntax on string variable alpha_test. Predict what the output will be in each case\n",
        "alpha_test.isupper()"
      ],
      "execution_count": null,
      "outputs": []
    },
    {
      "cell_type": "markdown",
      "metadata": {
        "id": "6IFJI_iYL4UQ"
      },
      "source": [
        "# &nbsp;\n",
        "<font size=\"6\" color=\"#00A0B2\"  face=\"verdana\"> <B>Concepts</B></font>  \n",
        "## String formatting methods\n",
        "\n",
        "the following methods are applied to string objects\n",
        "- **.capitalize()** - capitalizes the first character of a string\n",
        "- **.lower()** - all characters of a string are made lowercase\n",
        "- **.upper()** - all characters of a string are made uppercase\n",
        "- **.swapcase()** - all characters of a string are made to switch case upper becomes lower and vice versa  \n",
        "- **.title()** - each 'word' separated by a space is capitalized"
      ]
    },
    {
      "cell_type": "markdown",
      "metadata": {
        "id": "MEJL5B1rMZlS"
      },
      "source": [
        "# &nbsp;\n",
        "<font size=\"6\" color=\"#B24C00\"  face=\"verdana\"> <B>Task 7</B></font> \n",
        "### [ ] format with `.capitalize(), .lower(), .upper(), .swapcase()`\n",
        "> **Note:** use **print()**"
      ]
    },
    {
      "cell_type": "code",
      "metadata": {
        "id": "si5_w_ENMr0-"
      },
      "source": [
        "fav_color = \"Forest Green\"\n",
        "# [] display the fav_color variable as upper, lower, swapcase, and capitalize formatting in a single print() statement\n"
      ],
      "execution_count": null,
      "outputs": []
    },
    {
      "cell_type": "markdown",
      "metadata": {
        "id": "yADMCH1rMtLo"
      },
      "source": [
        "# &nbsp;\n",
        "<font size=\"6\" color=\"#B24C00\"  face=\"verdana\"> <B>Task 8</B></font>  \n",
        "### [ ] format &nbsp; ` input()` with ` .upper()`"
      ]
    },
    {
      "cell_type": "code",
      "metadata": {
        "id": "PUE1OqOrM6dh"
      },
      "source": [
        "# [] input variable fav_color as upper\n",
        "\n",
        "# [] print fav_color\n",
        "\n"
      ],
      "execution_count": null,
      "outputs": []
    },
    {
      "cell_type": "markdown",
      "metadata": {
        "id": "96-FT3S-NCMh"
      },
      "source": [
        "# &nbsp;\n",
        "<font size=\"6\" color=\"#00A0B2\"  face=\"verdana\"> <B>Concepts</B></font>  \n",
        "## Boolean `in` keyword \n",
        "the **`in`** keyword can be used as a simple search returning **`True`** or **`False`** indication if a string is included in a target sequence. This is case sensitive:  `'Hello'` is not the same as `'hello'`  "
      ]
    },
    {
      "cell_type": "markdown",
      "metadata": {
        "id": "u-Y7aqPXNgAI"
      },
      "source": [
        "# &nbsp;\n",
        "<font size=\"6\" color=\"#B24C00\"  face=\"verdana\"> <B>Task 9.1</B></font>  \n",
        "## Program: What is on the menu\n",
        "### [ ] Create a program where a user can check if an item is on a menu\n",
        "- store the user response in a variable menu_ask\n",
        "- create a menu with eight foods and/or drinks\n",
        "- the program should be able to ignore case mismatch so that \"hello\" is found in \"Hello World!\""
      ]
    },
    {
      "cell_type": "code",
      "metadata": {
        "id": "w8hs1Hv1NA48"
      },
      "source": [
        "# Create a program where the user supplies input to search the menu\n",
        "\n",
        "\n"
      ],
      "execution_count": null,
      "outputs": []
    },
    {
      "cell_type": "markdown",
      "metadata": {
        "id": "kExvcXYNNp8s"
      },
      "source": [
        "# &nbsp;\n",
        "<font size=\"6\" color=\"#B24C00\"  face=\"verdana\"> <B>Task 9.2 -- Extension</B></font>  \n",
        "### [ ] Challenge: Add to the menu\n",
        "- print the current menu\n",
        "- get user input for add_item variable\n",
        "- new_menu use string addition to add add_item to menu\n",
        "- print the new_menu\n",
        "testing\n",
        "- add a cell below add menu\n",
        "- check if an item is on the menu, check for previous items and the item you added"
      ]
    },
    {
      "cell_type": "markdown",
      "metadata": {
        "id": "_DwwTGQBOgto"
      },
      "source": [
        "# &nbsp;\n",
        "<font size=\"6\" color=\"#B24C00\"  face=\"verdana\"> <B>Task 10</B></font>\n",
        "## Fix The Error"
      ]
    },
    {
      "cell_type": "code",
      "metadata": {
        "id": "4XFPG-MrO0c-"
      },
      "source": [
        "# [ ] fix the error\n",
        "paint_colors = \"red, blue, green, black, orange, pink\"\n",
        "print('Red in paint colors = ',red in paint_colors)\n",
        "\n"
      ],
      "execution_count": null,
      "outputs": []
    }
  ]
}