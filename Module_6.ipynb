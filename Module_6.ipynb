{
  "nbformat": 4,
  "nbformat_minor": 0,
  "metadata": {
    "anaconda-cloud": {},
    "kernelspec": {
      "display_name": "Python 3",
      "language": "python",
      "name": "python3"
    },
    "language_info": {
      "codemirror_mode": {
        "name": "ipython",
        "version": 3
      },
      "file_extension": ".py",
      "mimetype": "text/x-python",
      "name": "python",
      "nbconvert_exporter": "python",
      "pygments_lexer": "ipython3",
      "version": "3.5.2"
    },
    "colab": {
      "name": "Module 6",
      "provenance": [],
      "include_colab_link": true
    }
  },
  "cells": [
    {
      "cell_type": "markdown",
      "metadata": {
        "id": "view-in-github",
        "colab_type": "text"
      },
      "source": [
        "<a href=\"https://colab.research.google.com/github/CODE-GWA/python-fundamentals-student/blob/master/Module_6.ipynb\" target=\"_parent\"><img src=\"https://colab.research.google.com/assets/colab-badge.svg\" alt=\"Open In Colab\"/></a>"
      ]
    },
    {
      "cell_type": "markdown",
      "metadata": {
        "id": "AbK8Tdj5Lem0"
      },
      "source": [
        "# 6 Intro Python\n",
        "## Nested Conditionals\n",
        "-  Nested Conditionals  \n",
        "- Escape Sequence print formatting \"\\\\\"\n"
      ]
    },
    {
      "cell_type": "markdown",
      "metadata": {
        "id": "WYg5vfSiLem2"
      },
      "source": [
        "# &nbsp;\n",
        "<font size=\"6\" color=\"#00A0B2\"  face=\"verdana\"> <B>Concepts</B></font>\n",
        "## nested conditionals\n",
        "**if**  \n",
        "**&nbsp;&nbsp;&nbsp;&nbsp;if**  \n",
        "**&nbsp;&nbsp;&nbsp;&nbsp;&nbsp;&nbsp;&nbsp;&nbsp;if**  \n",
        "**&nbsp;&nbsp;&nbsp;&nbsp;&nbsp;&nbsp;&nbsp;&nbsp;else**  \n",
        "**&nbsp;&nbsp;&nbsp;&nbsp;else**  \n",
        "**else**  \n",
        "\n",
        "### Making a sandwich\n",
        "Taking a sandwich order starts with sandwich choices:\n",
        "> **Cheese or Veggie special?**  \n",
        "if the response is **\"Cheese\"** \"nest\" a sub ask:  \n",
        ">> **Manchego or Cheddar?**  \n",
        "  \n",
        "  \n",
        "|Nested &nbsp;**`if`**&nbsp; statement  flowchart  |\n",
        "| ------ | \n",
        "| ![Image of sandwich order flowchart](https://iajupyterprodblobs.blob.core.windows.net/imagecontainer/flowchart_sandwich.png)   | \n"
      ]
    },
    {
      "cell_type": "markdown",
      "metadata": {
        "id": "UjrzX9nlLem3"
      },
      "source": [
        "# &nbsp;\n",
        "<font size=\"6\" color=\"#00A0B2\"  face=\"verdana\"> <B>Examples</B></font>\n"
      ]
    },
    {
      "cell_type": "code",
      "metadata": {
        "id": "xGrWBB9cLem5"
      },
      "source": [
        "# simplified example\n",
        "# [ ] review the code then run and following the flowchart paths\n",
        "\n",
        "# ***TIP:*** click in input box before typing\n",
        "\n",
        "sandwich_type = input('\"c\" for Cheese or \"v\" for Veggie Special: ')\n",
        "\n",
        "if sandwich_type.lower() == \"c\":\n",
        "    # select cheese type\n",
        "    cheese_type = input('\"c\" for Cheddar or \"m\" for Manchego: ')\n",
        "    \n",
        "    if cheese_type.lower() == \"c\":\n",
        "        print(\"Here is your Cheddar Cheese sandwich\")\n",
        "    else:\n",
        "        print(\"Here is your Manchego Cheese sandwich\") \n",
        "\n",
        "else:\n",
        "    print(\"Here is your Veggie Special\")"
      ],
      "execution_count": null,
      "outputs": []
    },
    {
      "cell_type": "code",
      "metadata": {
        "id": "DzJoDTgFLenB"
      },
      "source": [
        "# full example: handling some invalid input and elif statement\n",
        "# [ ] review the code then run following the flowchart paths including **invalid responses** like \"xyz123\"\n",
        "\n",
        "# ***TIP:*** click in input box before typing\n",
        "\n",
        "print(\"Hi, welcome to the sandwich shop.  Please select a sandwich.\")\n",
        "sandwich_type = input('\"c\" for Cheese or \"v\" for Veggie Special: ')\n",
        "# select sandwich type sandwich_type = input('\"c\" for Cheese or \"v\" for Veggie Special: ')\n",
        "print()\n",
        "    \n",
        "if sandwich_type.lower() == \"c\":\n",
        "    # select cheese type\n",
        "    print(\"Please select a cheese.\")\n",
        "    cheese_type = input('\"c\" for Cheddar or \"m\" for Manchego: ')\n",
        "    print()\n",
        "    \n",
        "    if cheese_type.lower() == \"c\":\n",
        "        print(\"Here is your Cheddar Cheese sandwich.  Thank you.\")\n",
        "    elif cheese_type.lower() == \"m\":\n",
        "        print(\"Here is your Manchego Cheese sandwich.  Thank you.\") \n",
        "    else:\n",
        "        print(\"Sorry, we don't have\", cheese_type, \"choice today.\")\n",
        "\n",
        "elif sandwich_type.lower() == \"v\":\n",
        "    print(\"Here is your Veggie Special. Thank you.\")\n",
        "        \n",
        "else:\n",
        "    print(\"Sorry, we don't have\", sandwich_type, \"choice today.\")\n",
        "print()\n",
        "print(\"Goodbye!\")\n"
      ],
      "execution_count": null,
      "outputs": []
    },
    {
      "cell_type": "markdown",
      "metadata": {
        "id": "kkm8whHkLenG"
      },
      "source": [
        "# &nbsp;\n",
        "<font size=\"6\" color=\"#B24C00\"  face=\"verdana\"> <B>Task 1</B></font>\n",
        "## Nested `if` \n",
        "### [ ] Program: Say \"Hello\"\n",
        "- using nested **`if`**\n",
        "  \n",
        "|Say \"Hello\" flowchart  |\n",
        "| ------ | \n",
        "|  ![Image: Say \"Hello\" flowchart](https://iajupyterprodblobs.blob.core.windows.net/imagecontainer/flowchart_say_hello.png) | "
      ]
    },
    {
      "cell_type": "code",
      "metadata": {
        "id": "owcCv4lBLenH"
      },
      "source": [
        "# [ ] Say \"Hello\" with nested if\n",
        "\n"
      ],
      "execution_count": null,
      "outputs": []
    },
    {
      "cell_type": "markdown",
      "metadata": {
        "id": "jNc-VW3GLenL"
      },
      "source": [
        "# &nbsp;\n",
        "<font size=\"6\" color=\"#B24C00\"  face=\"verdana\"> <B>Task 2</B></font>\n",
        "## Program:  [ ] 3 Guesses\n",
        "- use nested if statements complete the flowchart code\n",
        "- create a **`birds`** string variable with the names of 1, 2, 3 or more birds to make it easier\n",
        "- get **`bird_guess`** input and use **`bird_guess in bird_names`** to generate Boolean True/False\n",
        "- if the the guess is wrong (**`False`**) create a sub test until the user has had 3 guesses\n",
        "  \n",
        "|3 Guesses (\"Guess the Bird\") flowchart  |\n",
        "| ------ | \n",
        "| ![Image of Guess the Bird flowchart](https://iajupyterprodblobs.blob.core.windows.net/imagecontainer/flowchart_guess_the_bird.png)   | "
      ]
    },
    {
      "cell_type": "code",
      "metadata": {
        "id": "RuTySUKXLenM"
      },
      "source": [
        "# [ ] Create the \"Guess the bird\" program \n",
        "\n"
      ],
      "execution_count": null,
      "outputs": []
    },
    {
      "cell_type": "markdown",
      "metadata": {
        "id": "klH_lpIqLenR"
      },
      "source": [
        "# &nbsp;\n",
        "<font size=\"6\" color=\"#00A0B2\"  face=\"verdana\"> <B>Concept</B></font>\n",
        "## formatting with escape sequences\n",
        "- escape sequences all start with a backslash (**`\\`**) \n",
        "- escape sequences can be used to display characters in python reserved for formatting\n",
        "  - **`\\\\`** &nbsp; Backslash (**`\\`**)  \n",
        "  - **`\\'`** &nbsp; Single quote (**'**)  \n",
        "  - **`\\\"`** &nbsp; Double quote (**\"**)  \n",
        "\n",
        "\n",
        "- escape sequences are part of special formatting charcters\\n    Linefeed \n",
        "  - **`\\t`** &nbsp; Tab\n",
        "  - **`\\n`** &nbsp; return or newline\n",
        "\n",
        "We use escape sequences in strings - usually with `print()` statements "
      ]
    },
    {
      "cell_type": "markdown",
      "metadata": {
        "id": "me8KoWN1NkFV"
      },
      "source": [
        "# &nbsp;\n",
        "<font size=\"6\" color=\"#00A0B2\"  face=\"verdana\"> <B>Examples</B></font>  "
      ]
    },
    {
      "cell_type": "code",
      "metadata": {
        "id": "wrIHVwF7NmLl"
      },
      "source": [
        "# review and run example using \\n (new line)\n",
        "print('Hello World!\\nI am formatting print ')"
      ],
      "execution_count": null,
      "outputs": []
    },
    {
      "cell_type": "code",
      "metadata": {
        "id": "FT3_E2JDNvh-"
      },
      "source": [
        "# review and run code using \\t (tab)\n",
        "student_age = 17\n",
        "student_name = \"Hiroto Yamaguchi\"\n",
        "print(\"STUDENT NAME\\t\\tAGE\")\n",
        "print(student_name,'\\t' + str(student_age))"
      ],
      "execution_count": null,
      "outputs": []
    },
    {
      "cell_type": "code",
      "metadata": {
        "id": "rgje3z90Nw6e"
      },
      "source": [
        "# review and run code \n",
        "# using \\\" and \\' (escaped quotes)\n",
        "print(\"\\\"quotes in quotes\\\"\")\n",
        "print(\"I\\'ve said \\\"save your notebook,\\\" so let\\'s do it!\")\n",
        "\n",
        "# using  \\\\ (escaped backslash)\n",
        "print(\"for a newline use \\\\n\")"
      ],
      "execution_count": null,
      "outputs": []
    },
    {
      "cell_type": "markdown",
      "metadata": {
        "id": "kNU0l-zGN0Zu"
      },
      "source": [
        "# &nbsp;\n",
        "<font size=\"6\" color=\"#B24C00\"  face=\"verdana\"> <B>Task 3</B></font>  \n",
        "Format using backslash (**`\\`**) escape sequences"
      ]
    },
    {
      "cell_type": "code",
      "metadata": {
        "id": "U8Cm0iVTNyYI"
      },
      "source": [
        "# [ ] print \"\\\\\\WARNING!///\"\n",
        "\n"
      ],
      "execution_count": null,
      "outputs": []
    },
    {
      "cell_type": "code",
      "metadata": {
        "id": "P5xeDDurN-Iv"
      },
      "source": [
        "# [ ] from 1 print statement output the text commented below using no spaces\n",
        "# One     Two     Three\n",
        "# Four    Five    Six\n",
        "\n"
      ],
      "execution_count": null,
      "outputs": []
    },
    {
      "cell_type": "markdown",
      "metadata": {
        "id": "Jjw8GNdmN-yv"
      },
      "source": [
        "# &nbsp;\n",
        "<font size=\"6\" color=\"#B24C00\"  face=\"verdana\"> <B>Task 4</B></font>\n",
        "## Program: `pre_word()` Function\n",
        "The function should have a single string parameter that it checks if the argument is a single word starting with \"pre\"\n",
        "- Check if word starts with \"pre\"\n",
        "- Check if word .isalpha() \n",
        "- if all checks pass: return **`True`**\n",
        "- if any checks fail: return **`False`**\n",
        "- get input using the directions: *enter a word that starts with \"pre\": *\n",
        "- test **if** return value is **`False`** and print message explaining not a \"pre\" word \n",
        "- **else** print message explaining is a valid \"pre\" word"
      ]
    },
    {
      "cell_type": "code",
      "metadata": {
        "id": "0RIBIYkwOiwt"
      },
      "source": [
        "# [ ] create and test pre_word()\n",
        "\n"
      ],
      "execution_count": null,
      "outputs": []
    },
    {
      "cell_type": "markdown",
      "metadata": {
        "id": "CPOUsdt5Ola1"
      },
      "source": [
        "# &nbsp;\n",
        "<font size=\"6\" color=\"#B24C00\"  face=\"verdana\"> <B>Task 5</B></font>\n",
        "## Fix the Errors"
      ]
    },
    {
      "cell_type": "code",
      "metadata": {
        "id": "iKS_n-VHOntN"
      },
      "source": [
        "# [ ] review, run, fix\n",
        "print(\"Hello\" + \\n + \"World!\")\n",
        "\n"
      ],
      "execution_count": null,
      "outputs": []
    },
    {
      "cell_type": "markdown",
      "metadata": {
        "id": "0O3O62VvPccS"
      },
      "source": [
        "# &nbsp;\n",
        "<font size=\"6\" color=\"#B24C00\"  face=\"verdana\"> <B>Task 6</B></font>\n",
        "## Program: `lottery()` Function\n",
        "The function should have a single string/int parameter that it checks if the argument is a winning lottery number\n",
        "- Create sequences of lottery numbers that correspond to specific prizes\n",
        "- Check if input is an **int**\n",
        "  - Return a message explaining it's invalid\n",
        "- If input is one of the winning numbers, print message describing the reward\n",
        "- If input is not one of the winning numbers, print a message saying so\n",
        "- Print a message listing all possible winning numbers and their corresponding prizes\n",
        "  - **Hint** The len() function can take strings as an input and returns the number of characters within said string\n",
        "- See below for example outputs"
      ]
    },
    {
      "cell_type": "code",
      "metadata": {
        "id": "3ZfCaBhhQrv1"
      },
      "source": [
        "# define and call lottery()\n",
        "# retrieve input\n",
        "# win_num1 = 3,5,12,54\n",
        "# win_num2 = 43,93,834,20\n",
        "# win_num3 = 29,10,499,12\n",
        "\n",
        "# if input is in win_num1, \"You won a car!\"\n",
        "# if input is in win_num2, \"You won $100,000!\"\n",
        "# if input is in win_num3, \"You won a loli ;)!\"\n",
        "\n",
        "# regardless of input, prizes are:\n",
        "# 3,5,12,54:      car\n",
        "# 43,93,834,20:   $100,000\n",
        "# 29,10,499,12:   loli"
      ],
      "execution_count": null,
      "outputs": []
    }
  ]
}