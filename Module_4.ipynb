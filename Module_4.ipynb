{
  "nbformat": 4,
  "nbformat_minor": 0,
  "metadata": {
    "anaconda-cloud": {},
    "kernelspec": {
      "display_name": "Python 3",
      "language": "python",
      "name": "python3"
    },
    "language_info": {
      "codemirror_mode": {
        "name": "ipython",
        "version": 3
      },
      "file_extension": ".py",
      "mimetype": "text/x-python",
      "name": "python",
      "nbconvert_exporter": "python",
      "pygments_lexer": "ipython3",
      "version": "3.5.2"
    },
    "colab": {
      "name": "Module 4",
      "provenance": [],
      "collapsed_sections": [],
      "include_colab_link": true
    }
  },
  "cells": [
    {
      "cell_type": "markdown",
      "metadata": {
        "id": "view-in-github",
        "colab_type": "text"
      },
      "source": [
        "<a href=\"https://colab.research.google.com/github/CODE-GWA/python-fundamentals-student/blob/master/Module_4.ipynb\" target=\"_parent\"><img src=\"https://colab.research.google.com/assets/colab-badge.svg\" alt=\"Open In Colab\"/></a>"
      ]
    },
    {
      "cell_type": "markdown",
      "metadata": {
        "id": "s_QDM3yb4EeV"
      },
      "source": [
        "# 4 Intro Python\n",
        "## Conditionals \n",
        "- **`if`, `else`, `pass`**\n",
        "  - **Conditionals using Boolean String Methods**\n",
        "  - Comparison operators\n",
        "  - String comparisons\n"
      ]
    },
    {
      "cell_type": "markdown",
      "metadata": {
        "id": "j6GQmbm84EeY"
      },
      "source": [
        "# &nbsp;\n",
        "<font size=\"6\" color=\"#00A0B2\"  face=\"verdana\"> <B>Concepts</B></font>\n",
        "## Conditionals use `True` or `False`\n",
        " - the **`if`** conditional expects a True or False to succeed it\n",
        "   - if it is succeeded by a True, then the corresponding code will be executed\n",
        " - if **`else`** an  **`if`** conditional is False, then the code corresponding to the **`else`** conditional will run\n",
        "   - if **`pass`**  is present within conditional code, then anything within the condition that succeeds it will not be executed\n",
        "   "
      ]
    },
    {
      "cell_type": "markdown",
      "metadata": {
        "id": "RBbYbMgH4Eec"
      },
      "source": [
        "# &nbsp;\n",
        "<font size=\"6\" color=\"#00A0B2\"  face=\"verdana\"> <B>Examples</B></font>"
      ]
    },
    {
      "cell_type": "code",
      "metadata": {
        "id": "azbI1Phq4Eeg",
        "colab": {
          "base_uri": "https://localhost:8080/",
          "height": 34
        },
        "outputId": "76271b6c-ccb4-49a6-de91-425e687786ae"
      },
      "source": [
        "if True:\n",
        "    print(\"True means do something\")\n",
        "else:\n",
        "    print(\"Not True means do something else\")"
      ],
      "execution_count": null,
      "outputs": [
        {
          "output_type": "stream",
          "text": [
            "True means do something\n"
          ],
          "name": "stdout"
        }
      ]
    },
    {
      "cell_type": "code",
      "metadata": {
        "id": "8-p7M5gJ4Ee5",
        "colab": {
          "base_uri": "https://localhost:8080/",
          "height": 34
        },
        "outputId": "71f95307-2a9e-45e8-8f74-883a191f9051"
      },
      "source": [
        "hot_tea = False\n",
        "\n",
        "if hot_tea:\n",
        "    print(\"enjoy some hot tea!\")\n",
        "else:\n",
        "    print(\"enjoy some tea, and perhaps try hot tea next time.\")"
      ],
      "execution_count": null,
      "outputs": [
        {
          "output_type": "stream",
          "text": [
            "enjoy some tea, and perhaps try hot tea next time.\n"
          ],
          "name": "stdout"
        }
      ]
    },
    {
      "cell_type": "code",
      "metadata": {
        "id": "iNt9EV324EfD"
      },
      "source": [
        "someone_i_know = False\n",
        "if someone_i_know:\n",
        "    print(\"how have you been?\")\n",
        "else:\n",
        "    # use pass if there is no need to execute code \n",
        "    pass"
      ],
      "execution_count": null,
      "outputs": []
    },
    {
      "cell_type": "code",
      "metadata": {
        "id": "0s2hcOT34EfN"
      },
      "source": [
        "# changed the value of someone_i_know\n",
        "someone_i_know = False\n",
        "if someone_i_know:\n",
        "    print(\"how have you been?\")\n",
        "else:\n",
        "    pass"
      ],
      "execution_count": null,
      "outputs": []
    },
    {
      "cell_type": "markdown",
      "metadata": {
        "collapsed": true,
        "id": "QvIgvMiP4EfV"
      },
      "source": [
        "# &nbsp;\n",
        "<font size=\"6\" color=\"#B24C00\"  face=\"verdana\"> <B>Task 1</B></font>\n",
        "\n",
        "## Conditionals\n",
        "### Using Boolean with &nbsp; `if, else`\n",
        "\n",
        "- **Give a weather report using `if, else`**"
      ]
    },
    {
      "cell_type": "code",
      "metadata": {
        "id": "ucBB-rzX4EfX",
        "colab": {
          "base_uri": "https://localhost:8080/",
          "height": 34
        },
        "outputId": "ac31865a-975f-43a6-8a8c-a7be7f077d24"
      },
      "source": [
        "sunny_today = True\n",
        "# [ ] test if it is sunny_today and give proper responses using if and else\n",
        "if sunny_today:\n",
        "  print(\"It's sunny today!\")\n",
        "else:\n",
        "  print(\"It isn't sunny today :(\") \n",
        "\n"
      ],
      "execution_count": null,
      "outputs": [
        {
          "output_type": "stream",
          "text": [
            "It's sunny today!\n"
          ],
          "name": "stdout"
        }
      ]
    },
    {
      "cell_type": "code",
      "metadata": {
        "id": "Ge_BXUfJ4Efh",
        "colab": {
          "base_uri": "https://localhost:8080/",
          "height": 34
        },
        "outputId": "2b95db42-ed39-4266-b38e-399fd3a655f9"
      },
      "source": [
        "sunny_today = False\n",
        "# [ ] use code you created above and test sunny_today = False\n",
        "\n",
        "if sunny_today:\n",
        "  print(\"It's sunny today!\")\n",
        "else:\n",
        "  print(\"It isn't sunny today :(\") "
      ],
      "execution_count": null,
      "outputs": [
        {
          "output_type": "stream",
          "text": [
            "It isn't sunny today :(\n"
          ],
          "name": "stdout"
        }
      ]
    },
    {
      "cell_type": "markdown",
      "metadata": {
        "id": "PyoiNPSB4Efr"
      },
      "source": [
        "# &nbsp;\n",
        "<font size=\"6\" color=\"#00A0B2\"  face=\"verdana\"> <B>Concepts</B></font>\n",
        "## Conditionals: Boolean String test methods  with `if`\n",
        "\n",
        " - operations that output Booleans can be written on the same line as conditional statements. For example:\n",
        "\n",
        "```python\n",
        "if student_name.isalpha():\n",
        "```  \n",
        "- **`.isalnum()`**\n",
        "- **`.istitle()`**\n",
        "- **`.isdigit()`**\n",
        "- **`.islower()`**\n",
        "- **`.startswith()`**\n"
      ]
    },
    {
      "cell_type": "markdown",
      "metadata": {
        "id": "FmWsetwR4Efs"
      },
      "source": [
        "### &nbsp;\n",
        "<font size=\"6\" color=\"#00A0B2\"  face=\"verdana\"> <B>Examples</B></font>"
      ]
    },
    {
      "cell_type": "code",
      "metadata": {
        "id": "pDWd-Jt74Efu",
        "colab": {
          "base_uri": "https://localhost:8080/",
          "height": 51
        },
        "outputId": "9d2b16ad-b562-4ad7-b63e-468d796a6a1c"
      },
      "source": [
        "# review code and run cell\n",
        "favorite_book = input(\"Enter the title of a favorite book: \")\n",
        "\n",
        "if favorite_book.istitle():\n",
        "    print(favorite_book, \"- nice capitalization in that title!\")\n",
        "else:\n",
        "    print(favorite_book, \"- consider capitalization throughout for book titles.\")"
      ],
      "execution_count": null,
      "outputs": [
        {
          "output_type": "stream",
          "text": [
            "Enter the title of a favorite book: the City OF ember\n",
            "the City OF ember - consider capitalization throughout for book titles.\n"
          ],
          "name": "stdout"
        }
      ]
    },
    {
      "cell_type": "code",
      "metadata": {
        "id": "G3C8DNqs4Ef0",
        "colab": {
          "base_uri": "https://localhost:8080/",
          "height": 68
        },
        "outputId": "47ebc763-29c5-4d7b-e216-b5b390032eac"
      },
      "source": [
        "# review code and run cell\n",
        "a_number = input(\"enter a positive integer number: \")\n",
        "\n",
        "if a_number.isdigit():\n",
        "    print(a_number, \"is a positive integer\")\n",
        "else:\n",
        "    print(a_number, \"is not a positive integer\")\n",
        "    \n",
        "# another if\n",
        "if a_number.isalpha():\n",
        "    print(a_number, \"is more like a word\")\n",
        "else:\n",
        "    pass"
      ],
      "execution_count": null,
      "outputs": [
        {
          "output_type": "stream",
          "text": [
            "enter a positive integer number: wasd\n",
            "wasd is not a positive integer\n",
            "wasd is more like a word\n"
          ],
          "name": "stdout"
        }
      ]
    },
    {
      "cell_type": "code",
      "metadata": {
        "id": "g07UUFXc4Ef8",
        "colab": {
          "base_uri": "https://localhost:8080/",
          "height": 51
        },
        "outputId": "74065f66-f079-40f1-c67d-9c71be6747b5"
      },
      "source": [
        "# review code and run cell\n",
        "vehicle_type = input('\"enter a type of vehicle that starts with \"P\": ')\n",
        "\n",
        "if vehicle_type.upper().startswith(\"P\"):\n",
        "    print(vehicle_type, 'starts with \"P\"')\n",
        "else:\n",
        "    print(vehicle_type, 'does not start with \"P\"')"
      ],
      "execution_count": null,
      "outputs": [
        {
          "output_type": "stream",
          "text": [
            "\"enter a type of vehicle that starts with \"P\": PrIus\n",
            "PrIus starts with \"P\"\n"
          ],
          "name": "stdout"
        }
      ]
    },
    {
      "cell_type": "markdown",
      "metadata": {
        "collapsed": true,
        "id": "MUdqd_QW4EgD"
      },
      "source": [
        "# &nbsp;\n",
        "<font size=\"6\" color=\"#B24C00\"  face=\"verdana\"> <B>Task 2</B></font>\n",
        "\n",
        "## Evaluating Boolean Conditionals \n",
        "### create evaluations for `.islower()`\n",
        "- print output describing **if** each of the 2 strings is all lower-case or not\n"
      ]
    },
    {
      "cell_type": "code",
      "metadata": {
        "id": "UAeGMA6k4EgH",
        "colab": {
          "base_uri": "https://localhost:8080/",
          "height": 34
        },
        "outputId": "1f8ac5f2-223a-4031-a675-73867e330f1a"
      },
      "source": [
        "test_string_1 = \"welcome\"\n",
        "test_string_2 = \"I have $3\"\n",
        "# [ ] use if, else to test for islower() for the 2 strings\n",
        "if test_string_1.islower():\n",
        "  if test_string_2.islower():\n",
        "    print(\"Both strings are lower case\")\n",
        "  else:\n",
        "    print(\"They aren't lower case\")\n",
        "else:\n",
        "  print(\"They arent lower case\")"
      ],
      "execution_count": null,
      "outputs": [
        {
          "output_type": "stream",
          "text": [
            "They aren't lower case\n"
          ],
          "name": "stdout"
        }
      ]
    },
    {
      "cell_type": "markdown",
      "metadata": {
        "id": "MfxyUorA4EgO"
      },
      "source": [
        "# &nbsp;\n",
        "<font size=\"6\" color=\"#B24C00\"  face=\"verdana\"> <B>Task 3.1</B></font>\n",
        "### create a function  that checks for a specific letter\n",
        "- create a function along the lines of starts_with_w() in which the first letter of the input is checked to be a 'w'\n",
        "- the function should print the test result"
      ]
    },
    {
      "cell_type": "code",
      "metadata": {
        "id": "fEDHROHj4EgQ",
        "colab": {
          "base_uri": "https://localhost:8080/",
          "height": 68
        },
        "outputId": "ec31194d-986f-4285-e6e2-3f3bee5fe7ff"
      },
      "source": [
        "test_string_1 = 'Suraj' \n",
        "test_string_2 = \"warrio\"\n",
        "test_string_3 = \"John\"\n",
        "# [ ] create a function using if & else to test if a string starts with a certain character\n",
        "def starts_with_w(input):\n",
        "  if input.startswith(\"w\"):\n",
        "    return True\n",
        "  else:\n",
        "    return False\n",
        "\n",
        "\n",
        "# [ ] Test the 3 string variables provided by calling the function\n",
        "print(starts_with_w(test_string_1))\n",
        "print(starts_with_w(test_string_2))\n",
        "print(starts_with_w(test_string_3))"
      ],
      "execution_count": null,
      "outputs": [
        {
          "output_type": "stream",
          "text": [
            "False\n",
            "True\n",
            "False\n"
          ],
          "name": "stdout"
        }
      ]
    },
    {
      "cell_type": "markdown",
      "metadata": {
        "id": "BR9B39HvBXJx"
      },
      "source": [
        "# &nbsp;\n",
        "<font size=\"6\" color=\"#B24C00\"  face=\"verdana\"> <B>Task 3.2</B></font>\n",
        "### create a function  using `startswith('w')`\n",
        "- try modifying your function so that the the character to be checked is also a parameter of the function\n",
        "- the test strings should now be inputs from the input() function"
      ]
    },
    {
      "cell_type": "code",
      "metadata": {
        "id": "URd20Gv6C4YG"
      },
      "source": [
        ""
      ],
      "execution_count": null,
      "outputs": []
    },
    {
      "cell_type": "markdown",
      "metadata": {
        "id": "ILwyUfaJC6CY"
      },
      "source": [
        "# &nbsp;\n",
        "<font size=\"6\" color=\"#00A0B2\"  face=\"verdana\"> <B>Concepts</B></font>  \n",
        "\n",
        "## comparison operators \n",
        "- there are other operations that can be used in conditional statements. The following are examples.\n",
        " - **`>`** is greater than\n",
        " - **`<`** is less than\n",
        " - **`>=`**, **`<=`** is greater than OR equal to or less than OR equal to\n",
        " - **`==`** is equal to\n",
        " - **`=`** assigns values to variables. **`==`** checks if values are equal to each other\n",
        " - **`!=`** is NOT equal to"
      ]
    },
    {
      "cell_type": "markdown",
      "metadata": {
        "id": "VOOivHKkDkMC"
      },
      "source": [
        "# &nbsp;\n",
        "<font size=\"6\" color=\"#00A0B2\"  face=\"verdana\"> <B>Examples</B></font>"
      ]
    },
    {
      "cell_type": "code",
      "metadata": {
        "id": "qFAVU7CbDmnZ",
        "colab": {
          "base_uri": "https://localhost:8080/",
          "height": 34
        },
        "outputId": "744d726c-f2fc-468c-94f3-96e96d76cd8d"
      },
      "source": [
        "# [ ] review and run code to see if 3 greater than 5\n",
        "3 > 5"
      ],
      "execution_count": null,
      "outputs": [
        {
          "output_type": "execute_result",
          "data": {
            "text/plain": [
              "False"
            ]
          },
          "metadata": {
            "tags": []
          },
          "execution_count": 30
        }
      ]
    },
    {
      "cell_type": "code",
      "metadata": {
        "id": "LL0kbc4lDqjJ",
        "colab": {
          "base_uri": "https://localhost:8080/",
          "height": 34
        },
        "outputId": "9833a184-4b94-48ab-f82c-cdc8f727b1ce"
      },
      "source": [
        "# [ ] review and run code to see if 3 less than or equal to 5\n",
        "3 <= 5"
      ],
      "execution_count": null,
      "outputs": [
        {
          "output_type": "execute_result",
          "data": {
            "text/plain": [
              "True"
            ]
          },
          "metadata": {
            "tags": []
          },
          "execution_count": 31
        }
      ]
    },
    {
      "cell_type": "code",
      "metadata": {
        "id": "_uOYzWLTDqxf"
      },
      "source": [
        "# [ ] review and run code \n",
        "\n",
        "# assign x equal to 3\n",
        "x = 3\n",
        "\n",
        "# test if x is equal to\n",
        "x == 9"
      ],
      "execution_count": null,
      "outputs": []
    },
    {
      "cell_type": "code",
      "metadata": {
        "id": "_el3WbGbDq9f",
        "colab": {
          "base_uri": "https://localhost:8080/",
          "height": 51
        },
        "outputId": "a8c28e0b-45f1-4a72-aa51-70baa27735f6"
      },
      "source": [
        "# [ ] review and run code \n",
        "x = 3\n",
        "print(\"x not equal 9 is\", x != 9)\n",
        "print(\"x equal 3 is\", x == 3)"
      ],
      "execution_count": null,
      "outputs": [
        {
          "output_type": "stream",
          "text": [
            "x not equal 9 is True\n",
            "x equal 3 is True\n"
          ],
          "name": "stdout"
        }
      ]
    },
    {
      "cell_type": "markdown",
      "metadata": {
        "id": "UMrraTkbD39_"
      },
      "source": [
        "# &nbsp;\n",
        "<font size=\"6\" color=\"#B24C00\"  face=\"verdana\"> <B>Task 4</B></font>  \n",
        "## comparison operators"
      ]
    },
    {
      "cell_type": "code",
      "metadata": {
        "id": "dvlGRFofD23c",
        "colab": {
          "base_uri": "https://localhost:8080/",
          "height": 34
        },
        "outputId": "3bbd8d25-6c96-404a-fb8e-da16a9b19410"
      },
      "source": [
        "x = 9 + 4\n",
        "# [ ] create a test to print() True or False for x is equal to 13\n",
        "print('Is x equal to 13?', x==13)\n"
      ],
      "execution_count": null,
      "outputs": [
        {
          "output_type": "stream",
          "text": [
            "Is x equal to 13? True\n"
          ],
          "name": "stdout"
        }
      ]
    },
    {
      "cell_type": "code",
      "metadata": {
        "id": "Z_vWxcZJD5vi",
        "colab": {
          "base_uri": "https://localhost:8080/",
          "height": 51
        },
        "outputId": "5247d940-151b-4c72-f320-fbf012f2bd96"
      },
      "source": [
        "# [ ] create an input for a test score\n",
        "# [ ] create a test to print \"You passed!\" if the input() score is greater than 40 and \"You failed!\" if otherwise\n",
        "test_score = int(input('Test score: '))\n",
        "if test_score > 40:\n",
        "  print('You passed!')\n",
        "else:\n",
        "  print(\"You failed\")"
      ],
      "execution_count": null,
      "outputs": [
        {
          "output_type": "stream",
          "text": [
            "Test score: 60\n",
            "You passed!\n"
          ],
          "name": "stdout"
        }
      ]
    },
    {
      "cell_type": "markdown",
      "metadata": {
        "id": "EwVK7vQ9D7Co"
      },
      "source": [
        "# &nbsp;  \n",
        "<font size=\"6\" color=\"#B24C00\"  face=\"verdana\"> <B>Task 5</B></font>  \n",
        "## Program: True/False Quiz Function\n",
        "Call a tf_quiz function with 2 arguments\n",
        "- T/F question string \n",
        "- answer string like \"T\"  \n",
        "\n",
        "### Define and use `tf_quiz()` function  \n",
        "- **`tf_quiz()`** should have **2 parameters** which are both string arguments  \n",
        "  - **`question`**: a string containg a T/F question like \"Should you be watching 'one last' Youtube video?\"(T/F): \"  \n",
        "  - **`correct_ans`**: a string indicating the *correct answer*, either **\"T\"** or **\"F\"** \n",
        "- **`tf_quiz()`** returns a string:  \"correct\" or \"incorrect\"\n",
        "- Make several T/F questions within the function \n"
      ]
    },
    {
      "cell_type": "code",
      "metadata": {
        "id": "N_JRGQ6SHEQg",
        "colab": {
          "base_uri": "https://localhost:8080/",
          "height": 595
        },
        "outputId": "15a43166-6c79-4e02-cce2-9aaa4b314394"
      },
      "source": [
        "def tf_quiz(question, correct_ans):\n",
        "  answer = input(question)\n",
        "  if answer == correct_ans:\n",
        "    print(\"Correct!\")\n",
        "  else:\n",
        "    print(\"Wrong\")\n",
        "\n",
        "tf_quiz(\"Should you be watching 'one last' Youtube video?\", \"F\")\n",
        "tf_quiz(\"Is the Earth flat?\", \"F\")\n",
        "tf_quiz(\"Are we living in a computer simulation?\", \"T\")\n"
      ],
      "execution_count": null,
      "outputs": [
        {
          "output_type": "stream",
          "text": [
            "Should you be watching 'one last' Youtube video?T\n",
            "Wrong\n",
            "Is the Earth flat?T\n",
            "Wrong\n"
          ],
          "name": "stdout"
        },
        {
          "output_type": "error",
          "ename": "KeyboardInterrupt",
          "evalue": "ignored",
          "traceback": [
            "\u001b[0;31m---------------------------------------------------------------------------\u001b[0m",
            "\u001b[0;31mKeyboardInterrupt\u001b[0m                         Traceback (most recent call last)",
            "\u001b[0;32m/usr/local/lib/python3.6/dist-packages/ipykernel/kernelbase.py\u001b[0m in \u001b[0;36m_input_request\u001b[0;34m(self, prompt, ident, parent, password)\u001b[0m\n\u001b[1;32m    728\u001b[0m             \u001b[0;32mtry\u001b[0m\u001b[0;34m:\u001b[0m\u001b[0;34m\u001b[0m\u001b[0;34m\u001b[0m\u001b[0m\n\u001b[0;32m--> 729\u001b[0;31m                 \u001b[0mident\u001b[0m\u001b[0;34m,\u001b[0m \u001b[0mreply\u001b[0m \u001b[0;34m=\u001b[0m \u001b[0mself\u001b[0m\u001b[0;34m.\u001b[0m\u001b[0msession\u001b[0m\u001b[0;34m.\u001b[0m\u001b[0mrecv\u001b[0m\u001b[0;34m(\u001b[0m\u001b[0mself\u001b[0m\u001b[0;34m.\u001b[0m\u001b[0mstdin_socket\u001b[0m\u001b[0;34m,\u001b[0m \u001b[0;36m0\u001b[0m\u001b[0;34m)\u001b[0m\u001b[0;34m\u001b[0m\u001b[0;34m\u001b[0m\u001b[0m\n\u001b[0m\u001b[1;32m    730\u001b[0m             \u001b[0;32mexcept\u001b[0m \u001b[0mException\u001b[0m\u001b[0;34m:\u001b[0m\u001b[0;34m\u001b[0m\u001b[0;34m\u001b[0m\u001b[0m\n",
            "\u001b[0;32m/usr/local/lib/python3.6/dist-packages/jupyter_client/session.py\u001b[0m in \u001b[0;36mrecv\u001b[0;34m(self, socket, mode, content, copy)\u001b[0m\n\u001b[1;32m    802\u001b[0m         \u001b[0;32mtry\u001b[0m\u001b[0;34m:\u001b[0m\u001b[0;34m\u001b[0m\u001b[0;34m\u001b[0m\u001b[0m\n\u001b[0;32m--> 803\u001b[0;31m             \u001b[0mmsg_list\u001b[0m \u001b[0;34m=\u001b[0m \u001b[0msocket\u001b[0m\u001b[0;34m.\u001b[0m\u001b[0mrecv_multipart\u001b[0m\u001b[0;34m(\u001b[0m\u001b[0mmode\u001b[0m\u001b[0;34m,\u001b[0m \u001b[0mcopy\u001b[0m\u001b[0;34m=\u001b[0m\u001b[0mcopy\u001b[0m\u001b[0;34m)\u001b[0m\u001b[0;34m\u001b[0m\u001b[0;34m\u001b[0m\u001b[0m\n\u001b[0m\u001b[1;32m    804\u001b[0m         \u001b[0;32mexcept\u001b[0m \u001b[0mzmq\u001b[0m\u001b[0;34m.\u001b[0m\u001b[0mZMQError\u001b[0m \u001b[0;32mas\u001b[0m \u001b[0me\u001b[0m\u001b[0;34m:\u001b[0m\u001b[0;34m\u001b[0m\u001b[0;34m\u001b[0m\u001b[0m\n",
            "\u001b[0;32m/usr/local/lib/python3.6/dist-packages/zmq/sugar/socket.py\u001b[0m in \u001b[0;36mrecv_multipart\u001b[0;34m(self, flags, copy, track)\u001b[0m\n\u001b[1;32m    474\u001b[0m         \"\"\"\n\u001b[0;32m--> 475\u001b[0;31m         \u001b[0mparts\u001b[0m \u001b[0;34m=\u001b[0m \u001b[0;34m[\u001b[0m\u001b[0mself\u001b[0m\u001b[0;34m.\u001b[0m\u001b[0mrecv\u001b[0m\u001b[0;34m(\u001b[0m\u001b[0mflags\u001b[0m\u001b[0;34m,\u001b[0m \u001b[0mcopy\u001b[0m\u001b[0;34m=\u001b[0m\u001b[0mcopy\u001b[0m\u001b[0;34m,\u001b[0m \u001b[0mtrack\u001b[0m\u001b[0;34m=\u001b[0m\u001b[0mtrack\u001b[0m\u001b[0;34m)\u001b[0m\u001b[0;34m]\u001b[0m\u001b[0;34m\u001b[0m\u001b[0;34m\u001b[0m\u001b[0m\n\u001b[0m\u001b[1;32m    476\u001b[0m         \u001b[0;31m# have first part already, only loop while more to receive\u001b[0m\u001b[0;34m\u001b[0m\u001b[0;34m\u001b[0m\u001b[0;34m\u001b[0m\u001b[0m\n",
            "\u001b[0;32mzmq/backend/cython/socket.pyx\u001b[0m in \u001b[0;36mzmq.backend.cython.socket.Socket.recv\u001b[0;34m()\u001b[0m\n",
            "\u001b[0;32mzmq/backend/cython/socket.pyx\u001b[0m in \u001b[0;36mzmq.backend.cython.socket.Socket.recv\u001b[0;34m()\u001b[0m\n",
            "\u001b[0;32mzmq/backend/cython/socket.pyx\u001b[0m in \u001b[0;36mzmq.backend.cython.socket._recv_copy\u001b[0;34m()\u001b[0m\n",
            "\u001b[0;32m/usr/local/lib/python3.6/dist-packages/zmq/backend/cython/checkrc.pxd\u001b[0m in \u001b[0;36mzmq.backend.cython.checkrc._check_rc\u001b[0;34m()\u001b[0m\n",
            "\u001b[0;31mKeyboardInterrupt\u001b[0m: ",
            "\nDuring handling of the above exception, another exception occurred:\n",
            "\u001b[0;31mKeyboardInterrupt\u001b[0m                         Traceback (most recent call last)",
            "\u001b[0;32m<ipython-input-40-5b9bdd7f6c28>\u001b[0m in \u001b[0;36m<module>\u001b[0;34m()\u001b[0m\n\u001b[1;32m      8\u001b[0m \u001b[0mtf_quiz\u001b[0m\u001b[0;34m(\u001b[0m\u001b[0;34m\"Should you be watching 'one last' Youtube video?\"\u001b[0m\u001b[0;34m,\u001b[0m \u001b[0;34m\"F\"\u001b[0m\u001b[0;34m)\u001b[0m\u001b[0;34m\u001b[0m\u001b[0;34m\u001b[0m\u001b[0m\n\u001b[1;32m      9\u001b[0m \u001b[0mtf_quiz\u001b[0m\u001b[0;34m(\u001b[0m\u001b[0;34m\"Is the Earth flat?\"\u001b[0m\u001b[0;34m,\u001b[0m \u001b[0;34m\"F\"\u001b[0m\u001b[0;34m)\u001b[0m\u001b[0;34m\u001b[0m\u001b[0;34m\u001b[0m\u001b[0m\n\u001b[0;32m---> 10\u001b[0;31m \u001b[0mtf_quiz\u001b[0m\u001b[0;34m(\u001b[0m\u001b[0;34m\"Are we living in a computer simulation?\"\u001b[0m\u001b[0;34m,\u001b[0m \u001b[0;34m\"T\"\u001b[0m\u001b[0;34m)\u001b[0m\u001b[0;34m\u001b[0m\u001b[0;34m\u001b[0m\u001b[0m\n\u001b[0m",
            "\u001b[0;32m<ipython-input-40-5b9bdd7f6c28>\u001b[0m in \u001b[0;36mtf_quiz\u001b[0;34m(question, correct_ans)\u001b[0m\n\u001b[1;32m      1\u001b[0m \u001b[0;32mdef\u001b[0m \u001b[0mtf_quiz\u001b[0m\u001b[0;34m(\u001b[0m\u001b[0mquestion\u001b[0m\u001b[0;34m,\u001b[0m \u001b[0mcorrect_ans\u001b[0m\u001b[0;34m)\u001b[0m\u001b[0;34m:\u001b[0m\u001b[0;34m\u001b[0m\u001b[0;34m\u001b[0m\u001b[0m\n\u001b[0;32m----> 2\u001b[0;31m   \u001b[0manswer\u001b[0m \u001b[0;34m=\u001b[0m \u001b[0minput\u001b[0m\u001b[0;34m(\u001b[0m\u001b[0mquestion\u001b[0m\u001b[0;34m)\u001b[0m\u001b[0;34m\u001b[0m\u001b[0;34m\u001b[0m\u001b[0m\n\u001b[0m\u001b[1;32m      3\u001b[0m   \u001b[0;32mif\u001b[0m \u001b[0manswer\u001b[0m \u001b[0;34m==\u001b[0m \u001b[0mcorrect_ans\u001b[0m\u001b[0;34m:\u001b[0m\u001b[0;34m\u001b[0m\u001b[0;34m\u001b[0m\u001b[0m\n\u001b[1;32m      4\u001b[0m     \u001b[0mprint\u001b[0m\u001b[0;34m(\u001b[0m\u001b[0;34m\"Correct!\"\u001b[0m\u001b[0;34m)\u001b[0m\u001b[0;34m\u001b[0m\u001b[0;34m\u001b[0m\u001b[0m\n\u001b[1;32m      5\u001b[0m   \u001b[0;32melse\u001b[0m\u001b[0;34m:\u001b[0m\u001b[0;34m\u001b[0m\u001b[0;34m\u001b[0m\u001b[0m\n",
            "\u001b[0;32m/usr/local/lib/python3.6/dist-packages/ipykernel/kernelbase.py\u001b[0m in \u001b[0;36mraw_input\u001b[0;34m(self, prompt)\u001b[0m\n\u001b[1;32m    702\u001b[0m             \u001b[0mself\u001b[0m\u001b[0;34m.\u001b[0m\u001b[0m_parent_ident\u001b[0m\u001b[0;34m,\u001b[0m\u001b[0;34m\u001b[0m\u001b[0;34m\u001b[0m\u001b[0m\n\u001b[1;32m    703\u001b[0m             \u001b[0mself\u001b[0m\u001b[0;34m.\u001b[0m\u001b[0m_parent_header\u001b[0m\u001b[0;34m,\u001b[0m\u001b[0;34m\u001b[0m\u001b[0;34m\u001b[0m\u001b[0m\n\u001b[0;32m--> 704\u001b[0;31m             \u001b[0mpassword\u001b[0m\u001b[0;34m=\u001b[0m\u001b[0;32mFalse\u001b[0m\u001b[0;34m,\u001b[0m\u001b[0;34m\u001b[0m\u001b[0;34m\u001b[0m\u001b[0m\n\u001b[0m\u001b[1;32m    705\u001b[0m         )\n\u001b[1;32m    706\u001b[0m \u001b[0;34m\u001b[0m\u001b[0m\n",
            "\u001b[0;32m/usr/local/lib/python3.6/dist-packages/ipykernel/kernelbase.py\u001b[0m in \u001b[0;36m_input_request\u001b[0;34m(self, prompt, ident, parent, password)\u001b[0m\n\u001b[1;32m    732\u001b[0m             \u001b[0;32mexcept\u001b[0m \u001b[0mKeyboardInterrupt\u001b[0m\u001b[0;34m:\u001b[0m\u001b[0;34m\u001b[0m\u001b[0;34m\u001b[0m\u001b[0m\n\u001b[1;32m    733\u001b[0m                 \u001b[0;31m# re-raise KeyboardInterrupt, to truncate traceback\u001b[0m\u001b[0;34m\u001b[0m\u001b[0;34m\u001b[0m\u001b[0;34m\u001b[0m\u001b[0m\n\u001b[0;32m--> 734\u001b[0;31m                 \u001b[0;32mraise\u001b[0m \u001b[0mKeyboardInterrupt\u001b[0m\u001b[0;34m\u001b[0m\u001b[0;34m\u001b[0m\u001b[0m\n\u001b[0m\u001b[1;32m    735\u001b[0m             \u001b[0;32melse\u001b[0m\u001b[0;34m:\u001b[0m\u001b[0;34m\u001b[0m\u001b[0;34m\u001b[0m\u001b[0m\n\u001b[1;32m    736\u001b[0m                 \u001b[0;32mbreak\u001b[0m\u001b[0;34m\u001b[0m\u001b[0;34m\u001b[0m\u001b[0m\n",
            "\u001b[0;31mKeyboardInterrupt\u001b[0m: "
          ]
        }
      ]
    },
    {
      "cell_type": "markdown",
      "metadata": {
        "id": "mwMSAhfpHFJm"
      },
      "source": [
        "# &nbsp;  \n",
        "<font size=\"6\" color=\"#B24C00\"  face=\"verdana\"> <B>Task 6</B></font>  \n",
        "## Letter Guess\n",
        "**create a letter_guess() function that gives user 3 guesses**\n",
        "- takes a letter argument for the answer\n",
        "- gets user input for letter guess  \n",
        "- make another function named check_guess() to test if the guess aligns with the answer. This should be called from wtihin letter_guess()\n",
        "- letter_guess should end if:\n",
        "    - check_guess() equals True. In this case, return a statement akin to \"Correct! The letter is __\"  \n",
        "    - or after 3 failed attempts. In this case, return a statement akin to \"Wow, you're terrible at guessing...\""
      ]
    },
    {
      "cell_type": "code",
      "metadata": {
        "id": "THR8Jgq7IAQE"
      },
      "source": [
        ""
      ],
      "execution_count": null,
      "outputs": []
    }
  ]
}