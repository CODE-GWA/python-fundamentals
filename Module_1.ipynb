{
  "nbformat": 4,
  "nbformat_minor": 0,
  "metadata": {
    "anaconda-cloud": {},
    "kernelspec": {
      "display_name": "Python 3",
      "language": "python",
      "name": "python3"
    },
    "language_info": {
      "codemirror_mode": {
        "name": "ipython",
        "version": 3
      },
      "file_extension": ".py",
      "mimetype": "text/x-python",
      "name": "python",
      "nbconvert_exporter": "python",
      "pygments_lexer": "ipython3",
      "version": "3.5.1"
    },
    "colab": {
      "name": "Module 1",
      "provenance": [],
      "collapsed_sections": [
        "u5nDJRbl4b1C",
        "mUIQwb3e41AM",
        "QiF_8o5h58v0",
        "dHmvJ11z6qYN",
        "Mf9hqOWQ7Bqw",
        "rRlM3IkmHaw7",
        "4dnYMTOWH1qC",
        "DfbIlxeHI2xU",
        "mXg2HjC4KUhM",
        "8t5-_RZvKUxL",
        "PXcifeafLD1b",
        "BqPkuIH03OWV",
        "iK3O41P-3OWX",
        "fEfhak4K3OWY",
        "WULajvWT3OWd",
        "-AboM9bG3OWe",
        "TaQid-Zc3OWn"
      ],
      "include_colab_link": true
    }
  },
  "cells": [
    {
      "cell_type": "markdown",
      "metadata": {
        "id": "view-in-github",
        "colab_type": "text"
      },
      "source": [
        "<a href=\"https://colab.research.google.com/github/CODE-GWA/python-fundamentals-student/blob/master/Module_1.ipynb\" target=\"_parent\"><img src=\"https://colab.research.google.com/assets/colab-badge.svg\" alt=\"Open In Colab\"/></a>"
      ]
    },
    {
      "cell_type": "markdown",
      "metadata": {
        "id": "emDmmbkrRvub"
      },
      "source": [
        "# 1 Intro Python\n",
        "##  Getting started with Python in Jupyter Notebooks\n",
        "- **Python 3 in Jupyter notebooks**\n",
        "- **`print()`**\n",
        "- **comments** \n",
        "- data types basics\n",
        "- variables\n",
        "- addition with Strings and Integers \n",
        "- Errors\n",
        "- character art  \n",
        "\n"
      ]
    },
    {
      "cell_type": "markdown",
      "metadata": {
        "id": "aaj7JzEfRvub"
      },
      "source": [
        "# &nbsp;\n",
        "<font size=\"6\" color=\"#00A0B2\"  face=\"verdana\"> <B>Concept</B></font>\n",
        "## Hello World! - python&nbsp; `print()` statement\n",
        "Using code to write \"Hello World!\" on the screen is the traditional first program when learning a new language in computer science\n",
        "\n",
        "Python has a very simple implementation: \n",
        "```python\n",
        "print(\"Hello World!\")\n",
        "```  "
      ]
    },
    {
      "cell_type": "code",
      "metadata": {
        "id": "oGL0R3_HaRX1"
      },
      "source": [
        ""
      ],
      "execution_count": null,
      "outputs": []
    },
    {
      "cell_type": "markdown",
      "metadata": {
        "id": "CrXaHb1pRvuc"
      },
      "source": [
        "<font size=\"4\" color=\"#00A0B2\"  face=\"verdana\"> <B>Example</B></font>"
      ]
    },
    {
      "cell_type": "code",
      "metadata": {
        "id": "-0ISjXCERvud"
      },
      "source": [
        "# [ ] Review the code, run the code\n",
        "print(\"Hello world\")\n"
      ],
      "execution_count": null,
      "outputs": []
    },
    {
      "cell_type": "markdown",
      "metadata": {
        "id": "otVlEnoiRvug"
      },
      "source": [
        "# &nbsp;\n",
        "<font size=\"6\" color=\"#00A0B2\"  face=\"verdana\"> <B>Concept</B></font>\n",
        "## Comments\n",
        "\n",
        "When coding, programmers include comments for explanation of how code works for reminders and to help others who encounter the code\n",
        "### comment start with the  `#`  symbol"
      ]
    },
    {
      "cell_type": "markdown",
      "metadata": {
        "id": "yaVbgs5pRvuh"
      },
      "source": [
        "# &nbsp;\n",
        "<font size=\"6\" color=\"#00A0B2\"  face=\"verdana\"> <B>Example</B></font>"
      ]
    },
    {
      "cell_type": "code",
      "metadata": {
        "id": "GeUxpCfFRvuh"
      },
      "source": [
        "# this is how a comment looks in python code\n",
        "# every comment line starts with the # symbol"
      ],
      "execution_count": null,
      "outputs": []
    },
    {
      "cell_type": "markdown",
      "metadata": {
        "id": "3WJhOX8yRvuj"
      },
      "source": [
        "# &nbsp;\n",
        "<font size=\"6\" color=\"#B24C00\"  face=\"verdana\"> <B>Task 1</B></font>\n",
        "## Program: \"Hello World!\" with comment\n",
        "- add a comment describing the code purpose\n",
        "- create an original \"Hello World\" style message"
      ]
    },
    {
      "cell_type": "code",
      "metadata": {
        "id": "8ytRFb67Rvuk"
      },
      "source": [
        "# This function is going to print \"Hello World!\"\n"
      ],
      "execution_count": null,
      "outputs": []
    },
    {
      "cell_type": "markdown",
      "metadata": {
        "id": "iT3VWkU8Rvum"
      },
      "source": [
        "# &nbsp;\n",
        "<font size=\"6\" color=\"#B24C00\"  face=\"verdana\"> <B>Task 2</B></font>\n",
        "## Insert a new cell\n",
        "-  Insert a two code cells below. One should be a comment describing the task, and the other should print a message\n",
        "-  run the cell"
      ]
    },
    {
      "cell_type": "code",
      "metadata": {
        "id": "htjQI68lRvun"
      },
      "source": [
        "# "
      ],
      "execution_count": null,
      "outputs": []
    },
    {
      "cell_type": "markdown",
      "metadata": {
        "id": "OmailPLaRvuo"
      },
      "source": [
        "### Insert another new cell\n",
        "- Insert a new Code cell below \n",
        "- edit cell: add print() with the message showing the keyboard Shortcut to save **Ctrl + s**\n",
        "- run the cell"
      ]
    },
    {
      "cell_type": "code",
      "metadata": {
        "id": "LRai2oSiRvup"
      },
      "source": [
        ""
      ],
      "execution_count": null,
      "outputs": []
    },
    {
      "cell_type": "markdown",
      "metadata": {
        "id": "4IIAVFkU4Tcy"
      },
      "source": [
        "--------"
      ]
    },
    {
      "cell_type": "markdown",
      "metadata": {
        "id": "u5nDJRbl4b1C"
      },
      "source": [
        "<font size=\"6\" color=\"#00A0B2\"  face=\"verdana\"> <B>Concepts</B></font>\n",
        "## What is a **String?**  \n",
        "\n",
        "Strings were used in \"Hello World!\" print function examples. Strings are sets of characters.  In Python strings are in double or single quotes like `\"Hello World!\"` or `'after edit, save!'`  \n",
        "  \n",
        "A String is a common **type** of data, used in programming, consisting of a sequence of 1 or more characters. \n",
        "* **A String is a sequence of characters** (aka: a *string* of characters)  \n",
        "    * Character examples: `A, B, C, a, b, c, 1, 2, 3, !, &`\n",
        "* A String in python is contained in quotes, single(') or double(\")\n",
        "    * String examples:  \"ABC\", 'Joana Dias', 'I have 2 pet cats.', \"item #3 cost \\$3.29 USD\"  \n",
        "    > **Note:** the quotes containing a string must come in matched pairs   \n",
        "    > - `\"Hello\"` or `'Hello'` are correctly formatted strings  \n",
        "    > - `\"Hello'` is incorrectly formatted starting with double \" and ending with single ' python needs a matching quote to know where the string ends"
      ]
    },
    {
      "cell_type": "markdown",
      "metadata": {
        "id": "mUIQwb3e41AM"
      },
      "source": [
        "## Integers are another type\n",
        "\n",
        "- whole numbers such as `-2, -1, 0, 1, 2, 3` are Integers \n",
        "- Integers are **not placed in quotes**  \n",
        "  \n",
        "A String can contain any character, this includes letters, spaces, punctuation, number digits and formatting. In a string with digits (`\"123\"`) the digits are text images rather than representations of numeric values.  \n",
        "\n",
        ">**remember** a line of python code starting with the pound or hash symbol (**#**) indicates a **comment**  \n",
        "&nbsp;  \n",
        "comments are for humans to read and are not run by computers\n"
      ]
    },
    {
      "cell_type": "markdown",
      "metadata": {
        "id": "QiF_8o5h58v0"
      },
      "source": [
        "## Variables & Storing Strings in **Variables**  \n",
        "\n",
        "### Variables are named containers\n",
        "Computer programs often create storage for things that are used in repeated processing like item_price, student_name, stock_symbol. In python a variable  is a type of **object** that can be addressed by name to access the assigned contents.\n",
        "\n",
        "#### Name a variable staring with a letter or underscore \"_\"\n",
        "There are different styles for creating variables this course uses lowercase descriptive names connected by underscores:\n",
        "- item_price\n",
        "- student_name\n",
        "- stock_symbol  \n",
        "\n",
        "descriptive names reduce the need for comments in the code and make it easier to share code or read code written long ago\n",
        "\n",
        "### Variables can hold strings\n",
        "once a variable is **assigned**:\n",
        ">**`current_msg = \"I am a string\" `**  \n",
        "  \n",
        "a python program can refer to the variable, &nbsp; **`current_msg`**, &nbsp; in code  \n",
        "so that &nbsp;**` current_msg `**, can be used like the string value &nbsp;(**`\"I am a string\"`**) &nbsp; which it stores  \n",
        "  \n",
        "### Variable reassignment\n",
        "We can reassign a variable, changing the contents.   **`current_msg = \"new current message\" `**  \n",
        "\n",
        "### Variables can be used in place of literals \n",
        "If we initialize **`current_msg = \"new current message\" `** then  \n",
        "the literal string **` \"new current message\" `** and the variable **` current_msg `** are the same when used in code"
      ]
    },
    {
      "cell_type": "markdown",
      "metadata": {
        "id": "aOH8ojO56NnR"
      },
      "source": [
        "<font size=\"6\" color=\"#00A0B2\"  face=\"verdana\"> <B>Examples</B></font>\n",
        "- **Initializing variables**\n",
        "- **literals & variables** in printing\n",
        "- **Variable reassignment**"
      ]
    },
    {
      "cell_type": "code",
      "metadata": {
        "id": "4a2CtoSa59eM",
        "colab": {
          "base_uri": "https://localhost:8080/",
          "height": 54
        },
        "outputId": "8d27331b-0b39-4573-eb96-2f7dcca06b79"
      },
      "source": [
        "# print literal string\n",
        "print(\"I am a string\")\n",
        "\n",
        "# initialize the variable\n",
        "current_msg = \"I am a string\"\n",
        "\n",
        "# print variable string\n",
        "print(current_msg)"
      ],
      "execution_count": null,
      "outputs": [
        {
          "output_type": "stream",
          "text": [
            "I am a string\n",
            "I am a string\n"
          ],
          "name": "stdout"
        }
      ]
    },
    {
      "cell_type": "code",
      "metadata": {
        "id": "3Jq_Zjxc6U2K",
        "colab": {
          "base_uri": "https://localhost:8080/",
          "height": 35
        },
        "outputId": "e89551df-9471-45f2-c126-9f2a5726285c"
      },
      "source": [
        "# assign a new string to the current_msg variable\n",
        "current_msg = \"I am a new string :)\"\n",
        "\n",
        "print(current_msg)"
      ],
      "execution_count": null,
      "outputs": [
        {
          "output_type": "stream",
          "text": [
            "I am a new string :)\n"
          ],
          "name": "stdout"
        }
      ]
    },
    {
      "cell_type": "markdown",
      "metadata": {
        "id": "dHmvJ11z6qYN"
      },
      "source": [
        "<font size=\"6\" color=\"#B24C00\"  face=\"verdana\"> <B>Task 3</B></font> \n",
        "## Program: assigning values to a string\n",
        "- in the cell below\n",
        "  - print the variable current_msg  \n",
        "  - assign a new string to current_msg  \n",
        "  - print the variable  current_msg again\n",
        "- run the code cell above and then run the cell below"
      ]
    },
    {
      "cell_type": "code",
      "metadata": {
        "id": "K9jw3G926qss"
      },
      "source": [
        ""
      ],
      "execution_count": null,
      "outputs": []
    },
    {
      "cell_type": "markdown",
      "metadata": {
        "id": "Mf9hqOWQ7Bqw"
      },
      "source": [
        "<font size=\"6\" color=\"#00A0B2\"  face=\"verdana\"> <B>Concepts</B></font>\n",
        "## Data types in variables\n",
        "Variables can be initialized with different data types.  Below we see item_price is a **decimal** (aka - float) and student_name is **string** \n",
        "  \n",
        "```python\n",
        "retail_price = 10.25 #retail_price initialized as a numeric value (no quotes)\n",
        "student_name =\"Jacob Lee\" #student_name initialized as a string\n",
        "license_plate = \"519-AB\" #license_plate initialized as a string\n",
        "```\n",
        "\n",
        "\n",
        "### Variables can start initialized as an Integer number data type  \n",
        ">```python \n",
        "x = 22\n",
        "``` \n",
        "here the Integer `22`&nbsp; value was assigned to the variable &nbsp;**`x`**    \n",
        "\n",
        "### The type of data a variable holds can be changed,\n",
        "### Python variables can change the **type** of data a variable holds  \n",
        "\n",
        ">```python\n",
        "x = 22\n",
        "x = \"I am a string\"\n",
        "```  \n",
        "\n",
        "**` x `**&nbsp; changed type from Integer &nbsp;**`x = 22`**&nbsp; to string&nbsp; **`x = \"I am a string\"`**  \n",
        "   \n",
        "|Best Practice: Friendly Names |\n",
        "|------------------------------------------------------------------------------------------|\n",
        "| **Friendly name** examples, (`item_price, student_name,license_plate`), were used above. |  \n",
        "  \n",
        "  \n",
        "#### Variables help us to write code that can be used repeatedly\n",
        "A personalized letter can be sent to every student with individual names by using a name in a variable. Let's start with printing a name based on string variable.\n",
        "\n",
        "Create a variable, `name`, at the top of the next cell. Assign a string value to &nbsp; `name `. \n",
        "\n",
        "> **Remember to use the quotes for string values**\n",
        "\n",
        "example:\n",
        "\n",
        "```python\n",
        "name = \"Joana Dias\"\n",
        "print(name)\n",
        "```"
      ]
    },
    {
      "cell_type": "markdown",
      "metadata": {
        "id": "rRlM3IkmHaw7"
      },
      "source": [
        "<font size=\"6\" color=\"#B24C00\"  face=\"verdana\"> <B>Task 4</B></font> \n",
        "## Assign a variable and print the value\n",
        "- assign a string value to a variable **`student_name`**\n",
        "- assign an integer value to a variable **`grade`**\n",
        "- print these variables"
      ]
    },
    {
      "cell_type": "code",
      "metadata": {
        "id": "dt7HU2iEHbc-",
        "colab": {
          "base_uri": "https://localhost:8080/",
          "height": 35
        },
        "outputId": "3c0fb130-c0dc-4cff-bd12-bce3f9a99f9b"
      },
      "source": [
        "student_name, grade = \"John\", 12\n",
        "grade = 12\n",
        "print( student_name, grade)"
      ],
      "execution_count": null,
      "outputs": [
        {
          "output_type": "stream",
          "text": [
            "John 12\n"
          ],
          "name": "stdout"
        }
      ]
    },
    {
      "cell_type": "markdown",
      "metadata": {
        "id": "4dnYMTOWH1qC"
      },
      "source": [
        "## Q?: What is the difference between `123` and  `'123'`?  \n",
        "  \n",
        "**A:** A String type **is not** a number, even if it  is all numeric digits\n",
        "* in Python code a number can be assigned to a variable: `x = 31`\n",
        "* a string of digits can be assigned to the variable **`id`**&nbsp; --> `id = \"001023\"`&nbsp; the quotations, mean the number symbols should be stored in the variable as **type** string, meaning the digits&nbsp;\"`001023`\"&nbsp; are treated as text\n",
        "    \n",
        "The **`print()`** function can print Integer or string values:\n",
        "```python\n",
        "print(123) #integer, with numeric value\n",
        "print(\"123\") #string, represents text characters\n",
        "```  \n",
        "*Notice the difference in colors when the value is typed into an editor*"
      ]
    },
    {
      "cell_type": "markdown",
      "metadata": {
        "id": "ZqNzlFESAZ_m"
      },
      "source": [
        ""
      ]
    },
    {
      "cell_type": "markdown",
      "metadata": {
        "id": "DfbIlxeHI2xU"
      },
      "source": [
        "<font size=\"6\" color=\"orange\"  face=\"verdana\"> <B>Extension</B></font>\n",
        "## Using the Python `type()` function\n",
        "**`type()`** returns the data type of python objects\n",
        "\n",
        "### `str`, `int`, `float`  \n",
        "#### What does using `type()` reveal?\n",
        "- **`str`**: when **type()** returns **str** that means it has evaluated a **string** characters (numbers, letters, punctuation...) in quotes \n",
        "- **`int`**: when **type()** returns **int** that means it has evaluated an **Integer** (+/- whole numbers) \n",
        "- **`float`**: when **type()** returns **`float`** that means it has evaluated decimal numbers (e.g. 3.33, 0.01, 9.9999 and 3.0), ...more later in the course"
      ]
    },
    {
      "cell_type": "markdown",
      "metadata": {
        "id": "kBz8nUwNJO3r"
      },
      "source": [
        "```python\n",
        "myStr = \"This is a string!\"\n",
        "myInt = 85\n",
        "myFloat = 3.1415\n",
        "```\n",
        "```python\n",
        "type(myStr)\n",
        "```\n",
        "\n",
        "Expected output: `<class 'str'>`\n",
        "\n",
        "```python\n",
        "type(myInt)\n",
        "```\n",
        "\n",
        "Expected output: `<class 'int'>`\n",
        "\n",
        "```python\n",
        "type(myFloat)\n",
        "```\n",
        "Expected output: `<class 'float'>`\n",
        "\n",
        "**Initialize several variables consisting of multiple data types and play around with the `type()` method**\n"
      ]
    },
    {
      "cell_type": "code",
      "metadata": {
        "id": "GQQNfJ4qJCB_"
      },
      "source": [
        "# Explore away!"
      ],
      "execution_count": null,
      "outputs": []
    },
    {
      "cell_type": "markdown",
      "metadata": {
        "id": "mXg2HjC4KUhM"
      },
      "source": [
        "<font size=\"6\" color=\"#00A0B2\"  face=\"verdana\"> <B>Concepts</B></font>\n",
        "## Addition: Numbers and Strings  \n",
        "\n",
        "### Numeric addition\n",
        "**Numeric addition** Single line *math equations*, run in a code cell, will output a sum \n",
        "```python\n",
        "# adding a pair of single digit Integers\n",
        "3 + 5  \n",
        "```  \n",
        "## String addition\n",
        "**string addition** single line *equations*, run in a code cell, will output a single concatenated string  \n",
        "> **Tip:** all strings must be in quotes  \n",
        "    \n",
        "```python\n",
        "# adding a pair of strings\n",
        "\"I wear \" + \"a hat\"  \n",
        "```  \n",
        "We can also **add variables** as long as we add strings to strings and numbers to numbers"
      ]
    },
    {
      "cell_type": "markdown",
      "metadata": {
        "id": "8t5-_RZvKUxL"
      },
      "source": [
        "<font size=\"6\" color=\"#00A0B2\"  face=\"verdana\"> <B>Examples</B></font>\n",
        "## String and Number Addition"
      ]
    },
    {
      "cell_type": "code",
      "metadata": {
        "id": "7VoTpKYUKhz2",
        "colab": {
          "base_uri": "https://localhost:8080/",
          "height": 35
        },
        "outputId": "5a406797-562c-4dc9-c8e3-4c59ef6843af"
      },
      "source": [
        "# [ ] Review and run code for adding a pair of 2 digit Integers\n",
        "print(23 + 18)"
      ],
      "execution_count": null,
      "outputs": [
        {
          "output_type": "stream",
          "text": [
            "41\n"
          ],
          "name": "stdout"
        }
      ]
    },
    {
      "cell_type": "code",
      "metadata": {
        "id": "MPeKDdT8KsDD",
        "colab": {
          "base_uri": "https://localhost:8080/",
          "height": 35
        },
        "outputId": "282c071a-f0bf-49a3-8bdf-d6a0ec4f2d6e"
      },
      "source": [
        "# [ ] Review and run code for adding 2 strings\n",
        "print(\"My name is \" + \"Bob\")"
      ],
      "execution_count": null,
      "outputs": [
        {
          "output_type": "stream",
          "text": [
            "My name is Bob\n"
          ],
          "name": "stdout"
        }
      ]
    },
    {
      "cell_type": "code",
      "metadata": {
        "id": "QARqzl2oKwBn",
        "colab": {
          "base_uri": "https://localhost:8080/",
          "height": 35
        },
        "outputId": "12b0bbf2-a4e6-4eef-9563-4bf9d1c86dae"
      },
      "source": [
        "# [ ] Review and run code for adding a variable string and a literal string\n",
        "shoe_color = \"brown\"\n",
        "print(\"my shoe color is \" + shoe_color)"
      ],
      "execution_count": null,
      "outputs": [
        {
          "output_type": "stream",
          "text": [
            "my shoe color is brown\n"
          ],
          "name": "stdout"
        }
      ]
    },
    {
      "cell_type": "markdown",
      "metadata": {
        "id": "PXcifeafLD1b"
      },
      "source": [
        "<font size=\"6\" color=\"#B24C00\"  face=\"verdana\"> <B>Task 5</B></font>\n",
        "## String and Number Addition"
      ]
    },
    {
      "cell_type": "code",
      "metadata": {
        "id": "k2YPUuA93OV_"
      },
      "source": [
        "# [ ] Add multiple ints and print the result\n"
      ],
      "execution_count": null,
      "outputs": []
    },
    {
      "cell_type": "code",
      "metadata": {
        "id": "lkUUZyHH3OWB"
      },
      "source": [
        "# [ ] Add a float and an int and print the result\n",
        "\n"
      ],
      "execution_count": null,
      "outputs": []
    },
    {
      "cell_type": "code",
      "metadata": {
        "id": "ICTCD19r3OWD"
      },
      "source": [
        "# [ ] Add the string \"This notebook belongs to \" and a string with your first name\n",
        "\n"
      ],
      "execution_count": null,
      "outputs": []
    },
    {
      "cell_type": "code",
      "metadata": {
        "id": "VXyV8Y8t3OWG"
      },
      "source": [
        "# [ ] Create variables sm_number and big_number and assign numbers then add the numbers\n",
        "\n"
      ],
      "execution_count": null,
      "outputs": []
    },
    {
      "cell_type": "code",
      "metadata": {
        "id": "K1YkejOE3OWI"
      },
      "source": [
        "# [ ] assign a string value to the variable first_name and add to the string \", remember to save the notebook frequently\"\n",
        "\n",
        "\n"
      ],
      "execution_count": null,
      "outputs": []
    },
    {
      "cell_type": "markdown",
      "metadata": {
        "id": "BqPkuIH03OWV"
      },
      "source": [
        "\n",
        "<font size=\"6\" color=\"#00A0B2\"  face=\"verdana\"> <B>Concepts</B></font>  \n",
        "## Errors!\n",
        "Encountering **Errors** and troubleshooting errors are fundamental parts of computer programming\n"
      ]
    },
    {
      "cell_type": "markdown",
      "metadata": {
        "id": "tZZDEc1S3OWV"
      },
      "source": [
        "<font size=\"6\" color=\"#00A0B2\"  face=\"verdana\"> <B>Examples</B></font>"
      ]
    },
    {
      "cell_type": "code",
      "metadata": {
        "id": "z7dRIFOE3OWW"
      },
      "source": [
        "# [ ] review & run code\n",
        "print(\"my number is \" + \"123\") #string, represents a text character\n",
        "print(\"my number is \" + 123) #number, with numeric value "
      ],
      "execution_count": null,
      "outputs": []
    },
    {
      "cell_type": "markdown",
      "metadata": {
        "id": "iK3O41P-3OWX"
      },
      "source": [
        "#### TypeError\n",
        "The line&nbsp; **`print(\"my number is \" + 123)`** causes the **`TypeError`** message to appear  \n",
        ">`TypeError: Can't convert 'int' object to str implicitly`  \n",
        "\n",
        "When adding to the string&nbsp; `\"my number is \"`&nbsp; the compiler is experiencing another string, but finds a number ***`123`**  \n",
        "\n",
        "Python cannot convert the Integer &nbsp; `123`&nbsp; to a string without explicit instruction (in code) \n",
        "  \n",
        "in other words, python only allows combining *like types*\n",
        "- **`str`** + **`str`**\n",
        "- **`int`** + **`int`**\n"
      ]
    },
    {
      "cell_type": "markdown",
      "metadata": {
        "id": "fEfhak4K3OWY"
      },
      "source": [
        "\n",
        "<font size=\"6\" color=\"#B24C00\"  face=\"verdana\"> <B>Task 6</B></font>\n",
        "## Fix `TypeError` \n",
        "- Review the code in the cells below and then run the code\n",
        "- Fix any errors and run until the code no longer shows errors"
      ]
    },
    {
      "cell_type": "code",
      "metadata": {
        "id": "xuvCv7kc3OWY"
      },
      "source": [
        "# [ ] review and run the code - then fix any Errors\n",
        "total_cost = 3 + \"45\"\n",
        "print(total_cost)\n",
        "\n"
      ],
      "execution_count": null,
      "outputs": []
    },
    {
      "cell_type": "code",
      "metadata": {
        "id": "GooNhNM53OWa"
      },
      "source": [
        "# [ ] review and run the code - then fix any Errors\n",
        "school_num = 123\n",
        "print(\"the street number of Central School is \" + school_num)\n",
        "\n"
      ],
      "execution_count": null,
      "outputs": []
    },
    {
      "cell_type": "code",
      "metadata": {
        "id": "nLT7S1S83OWc"
      },
      "source": [
        "# [ ] Read and run the code - write a hypothesis for what you observe adding float + int\n",
        "#  [ ] HYPOTHESIS:\n",
        "\n",
        "print(type(3.3))\n",
        "print(type(3))\n",
        "print(3.3 + 3)\n",
        "\n"
      ],
      "execution_count": null,
      "outputs": []
    },
    {
      "cell_type": "markdown",
      "metadata": {
        "id": "WULajvWT3OWd"
      },
      "source": [
        "\n",
        "<font size=\"6\" color=\"#00A0B2\"  face=\"verdana\"> <B>Concepts</B></font> \n",
        "## More Errors\n",
        "### SyntaxError & NameError\n",
        "- **SyntaxError** - breaks code formatting rules of python\n",
        "- **NameError** - object is not defined (can't be found)  \n",
        "\n",
        "Python has a specific grammar that it follows that is referred to as **syntax**.  \n",
        "The print function syntax rules for output of a single string include \n",
        "- parentheses **` ( ) `** containing a **string** follow **`print`** (SyntaxError)\n",
        "- strings have **matching quotation marks** (SyntaxError)\n",
        "- `print` is lowercase and correctly spelled (NameError)\n",
        "\n",
        "Failure to follow any of these rules results in a `SyntaxError` or `NameError` when the code is run  \n"
      ]
    },
    {
      "cell_type": "markdown",
      "metadata": {
        "id": "-AboM9bG3OWe"
      },
      "source": [
        "<font size=\"6\" color=\"#00A0B2\"  face=\"verdana\"> <B>Examples</B></font>\n",
        "## SyntaxError\n"
      ]
    },
    {
      "cell_type": "code",
      "metadata": {
        "id": "kRamWqjN3OWe"
      },
      "source": [
        "# [ ] review and run the code for properly and improperly formatted print statement\n",
        "print(\"Hi!\")\n",
        "## Improper format - non matching quotes\n",
        "print('I like the morning\") "
      ],
      "execution_count": null,
      "outputs": []
    },
    {
      "cell_type": "markdown",
      "metadata": {
        "id": "1Wx3R1HZ3OWg"
      },
      "source": [
        "- note that the misspelling of \"`prin`\" below results in a NameError"
      ]
    },
    {
      "cell_type": "code",
      "metadata": {
        "id": "VwH60Pgv3OWg"
      },
      "source": [
        "# [ ] review and run the code \n",
        "prin('hi')"
      ],
      "execution_count": null,
      "outputs": []
    },
    {
      "cell_type": "markdown",
      "metadata": {
        "id": "SBNTVDH63OWi"
      },
      "source": [
        "- EOF = \"end of file\" found in code below\n",
        "- Python went to the end of the file looking for, but not finding, a closing parenthesis "
      ]
    },
    {
      "cell_type": "code",
      "metadata": {
        "id": "HS0uioxS3OWi"
      },
      "source": [
        "# [ ] review and run the code missing the closing parenthesis  \n",
        "print(\"where are my socks?\" "
      ],
      "execution_count": null,
      "outputs": []
    },
    {
      "cell_type": "markdown",
      "metadata": {
        "id": "_2hw1_RJ3OWk"
      },
      "source": [
        "- In code below: a parenthesis inside quotations will be seen a part of a string and not as a parenthesis"
      ]
    },
    {
      "cell_type": "code",
      "metadata": {
        "id": "3yc4DzWN3OWk"
      },
      "source": [
        "# { ] review and run the code \n",
        "print(\"my socks are in the wrong bin)\" "
      ],
      "execution_count": null,
      "outputs": []
    },
    {
      "cell_type": "markdown",
      "metadata": {
        "id": "TaQid-Zc3OWn"
      },
      "source": [
        "\n",
        "<font size=\"6\" color=\"#B24C00\"  face=\"verdana\"> <B>Task 7</B></font>\n",
        "## Fix Errors"
      ]
    },
    {
      "cell_type": "code",
      "metadata": {
        "id": "nSfNtwFO3OWn"
      },
      "source": [
        "# [ ] repair the syntax error \n",
        "print('my socks do not match\") \n"
      ],
      "execution_count": null,
      "outputs": []
    },
    {
      "cell_type": "code",
      "metadata": {
        "id": "3pAPS85X3OWp"
      },
      "source": [
        "# [ ] repair the NameError  \n",
        "pront(\"my socks match now\") "
      ],
      "execution_count": null,
      "outputs": []
    },
    {
      "cell_type": "code",
      "metadata": {
        "id": "-SV_J6PB3OWr"
      },
      "source": [
        "# [ ] repair the syntax error \n",
        "print(\"Save the notebook frequently)\"\n",
        "\n"
      ],
      "execution_count": null,
      "outputs": []
    },
    {
      "cell_type": "code",
      "metadata": {
        "id": "Iygwx_R53OWs"
      },
      "source": [
        "# [ ] repair the NameError \n",
        "student_name = \"Alton\"\n",
        "print(STUDENT_NAME)\n",
        "\n"
      ],
      "execution_count": null,
      "outputs": []
    },
    {
      "cell_type": "code",
      "metadata": {
        "id": "4NEMtI5B3OWu"
      },
      "source": [
        "# [ ] repair the TypeError\n",
        "total = 3\n",
        "print(total + \" students are signed up for tutoring\")\n",
        "\n"
      ],
      "execution_count": null,
      "outputs": []
    },
    {
      "cell_type": "markdown",
      "metadata": {
        "id": "Z7Yx6M743OWw"
      },
      "source": [
        "A parenthesis inside quotations will be seen a part of a string and not as a parenthesis"
      ]
    }
  ]
}