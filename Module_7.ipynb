{
  "nbformat": 4,
  "nbformat_minor": 0,
  "metadata": {
    "anaconda-cloud": {},
    "kernelspec": {
      "display_name": "Python 3",
      "language": "python",
      "name": "python3"
    },
    "language_info": {
      "codemirror_mode": {
        "name": "ipython",
        "version": 3
      },
      "file_extension": ".py",
      "mimetype": "text/x-python",
      "name": "python",
      "nbconvert_exporter": "python",
      "pygments_lexer": "ipython3",
      "version": "3.5.2"
    },
    "colab": {
      "name": "Module 7",
      "provenance": [],
      "collapsed_sections": [],
      "include_colab_link": true
    }
  },
  "cells": [
    {
      "cell_type": "markdown",
      "metadata": {
        "id": "view-in-github",
        "colab_type": "text"
      },
      "source": [
        "<a href=\"https://colab.research.google.com/github/CODE-GWA/python-fundamentals-student/blob/master/Module_7.ipynb\" target=\"_parent\"><img src=\"https://colab.research.google.com/assets/colab-badge.svg\" alt=\"Open In Colab\"/></a>"
      ]
    },
    {
      "cell_type": "markdown",
      "metadata": {
        "id": "XffvkGj7Trrw"
      },
      "source": [
        "# 7 Intro Python\n",
        "## `while` and `for` loops & increments\n",
        "- **while `True`  or forever loops**\n",
        "- **incrementing in loops**\n",
        "- Boolean operators in while loops\n",
        "\n"
      ]
    },
    {
      "cell_type": "markdown",
      "metadata": {
        "id": "eWAc-TsqTrry"
      },
      "source": [
        "# &nbsp;\n",
        "<font size=\"6\" color=\"#00A0B2\"  face=\"verdana\"> <B>Concepts</B></font>\n",
        "## `while True:`\n",
        "**`while True`** is known as the **forever loop** because it... loops. All code within **`while`** will repeat until the Boolean value next to it is **False**, thus,  **`while True`** will always be **True** and repeat indefinitely \n",
        "\n",
        "\n",
        "## `break:`\n",
        "When in a `while` loop, causes code flow to exit the loop. A **conditional** can implement **`break`** to exit a **`while True`** loop  "
      ]
    },
    {
      "cell_type": "markdown",
      "metadata": {
        "id": "spQrpkRbTrr0"
      },
      "source": [
        "# &nbsp;\n",
        "<font size=\"6\" color=\"#00A0B2\"  face=\"verdana\"> <B>Examples</B></font>\n",
        "## `while True` loops forever unless a `break` statement is used  "
      ]
    },
    {
      "cell_type": "code",
      "metadata": {
        "id": "_QTqTt_QTrr0"
      },
      "source": [
        "# Review and run code\n",
        "# this example never loops because the break has no conditions\n",
        "while True:\n",
        "    print('write forever, unless there is a \"break\"')\n",
        "    break"
      ],
      "execution_count": null,
      "outputs": []
    },
    {
      "cell_type": "code",
      "metadata": {
        "id": "feOZQTddTrr9"
      },
      "source": [
        "# [ ] review the NUMBER GUESS code then run - Q. what cause the break statement to run?\n",
        "number_guess = \"0\"\n",
        "secret_number = \"5\"\n",
        "\n",
        "while True:\n",
        "    number_guess = input(\"guess the number 1 to 5: \")\n",
        "    if number_guess == secret_number:\n",
        "        print(\"Yes\", number_guess,\"is correct!\\n\")\n",
        "        break\n",
        "    else:\n",
        "        print(number_guess,\"is incorrect\\n\")"
      ],
      "execution_count": null,
      "outputs": []
    },
    {
      "cell_type": "code",
      "metadata": {
        "id": "CDXg3VxUTrsA"
      },
      "source": [
        "# [ ] review WHAT TO WEAR code then run testing different inputs\n",
        "while True:\n",
        "    weather = input(\"Enter weather (sunny, rainy, snowy, or quit): \") \n",
        "    print()\n",
        "\n",
        "    if weather.lower() == \"sunny\":\n",
        "        print(\"Wear a t-shirt and sunscreen\")\n",
        "        break\n",
        "    elif weather.lower() == \"rainy\":\n",
        "        print(\"Bring an umbrella and boots\")\n",
        "        break\n",
        "    elif weather.lower() == \"snowy\":\n",
        "        print(\"Wear a warm coat and hat\")\n",
        "        break\n",
        "    elif weather.lower().startswith(\"q\"):\n",
        "        print('\"quit\" detected, exiting')\n",
        "        break\n",
        "    else:\n",
        "        print(\"Sorry, not sure what to suggest for\", weather +\"\\n\")"
      ],
      "execution_count": null,
      "outputs": []
    },
    {
      "cell_type": "markdown",
      "metadata": {
        "id": "5xB0EV0ATrsF"
      },
      "source": [
        "# &nbsp;\n",
        "<font size=\"6\" color=\"#B24C00\"  face=\"verdana\"> <B>Task 1</B></font>\n",
        "## `while True` \n",
        "### [ ] Program: Get a name forever\n",
        "- create variable, familar_name, and assign it an empty string (**`\"\"`**)\n",
        "- use **`while True:`**\n",
        "- ask for user input for familar_name (common name friends/family use) \n",
        "- keep asking until given a non-blank/non-space alphabetical name is received (Hint: Boolean string test)\n",
        "- break loop once name is received and print a greeting using familar_name"
      ]
    },
    {
      "cell_type": "code",
      "metadata": {
        "id": "_yyqv3WYTrsF"
      },
      "source": [
        "# [ ] create Get Name program\n",
        "\n"
      ],
      "execution_count": null,
      "outputs": []
    },
    {
      "cell_type": "markdown",
      "metadata": {
        "collapsed": true,
        "id": "aqhTlauhTrsJ"
      },
      "source": [
        "# &nbsp;\n",
        "<font size=\"6\" color=\"#00A0B2\"  face=\"verdana\"> <B>Concept</B></font>\n",
        "\n",
        "## Incrementing\n",
        "### `votes = votes + 1` &nbsp; &nbsp; or &nbsp;  `votes += 1`\n",
        "\n",
        "## Decrementing \n",
        "### `votes = votes - 1` &nbsp; &nbsp; or &nbsp; `votes -= 1`"
      ]
    },
    {
      "cell_type": "markdown",
      "metadata": {
        "id": "hl2Am9PITrsL"
      },
      "source": [
        "# &nbsp;\n",
        "<font size=\"6\" color=\"#00A0B2\"  face=\"verdana\"> <B>Examples</B></font>\n",
        "  \n"
      ]
    },
    {
      "cell_type": "code",
      "metadata": {
        "id": "qoMgHjFoTrsL"
      },
      "source": [
        "# [ ] review and run example\n",
        "votes = 3\n",
        "print(votes)\n",
        "\n",
        "votes = votes + 1\n",
        "print(votes)\n",
        "\n",
        "votes += 2\n",
        "print(votes)\n",
        "\n",
        "votes - 1\n",
        "print(votes)"
      ],
      "execution_count": null,
      "outputs": []
    },
    {
      "cell_type": "code",
      "metadata": {
        "id": "JDEd_sxXTrsV"
      },
      "source": [
        "# [ ] review the SEAT TYPE COUNT code then run entering: hard, soft, medium and exit\n",
        "\n",
        "# initialize variables\n",
        "seat_count = 0\n",
        "soft_seats = 0\n",
        "hard_seats = 0\n",
        "num_seats = 4\n",
        "\n",
        "# loops tallying seats using soft pads vs hard, until seats full or user \"exits\"\n",
        "while True:\n",
        "    seat_type = input('enter seat type of \"hard\",\"soft\" or \"exit\" (to finish): ')\n",
        "    if seat_type.lower().startswith(\"e\"):\n",
        "        print()\n",
        "        break\n",
        "    elif seat_type.lower() == \"hard\":\n",
        "        hard_seats += 1\n",
        "    elif seat_type.lower() == \"soft\":\n",
        "        soft_seats += 1\n",
        "    else:\n",
        "        print(\"invalid entry: counted as hard\")\n",
        "        hard_seats += 1  \n",
        "    seat_count += 1\n",
        "    if seat_count >= num_seats:\n",
        "        print(\"\\nseats are full\")\n",
        "        break\n",
        "        \n",
        "print(seat_count,\"Seats Total: \",hard_seats,\"hard and\",soft_seats,\"soft\" )"
      ],
      "execution_count": null,
      "outputs": []
    },
    {
      "cell_type": "markdown",
      "metadata": {
        "id": "zvichCsPTrsZ"
      },
      "source": [
        "# &nbsp;\n",
        "<font size=\"6\" color=\"#B24C00\"  face=\"verdana\"> <B>Task 2</B></font>\n",
        "## Program: Password\n",
        "- name a variable as password and initialise it accordingly\n",
        "- take input of a password\n",
        "  - if it is wrong, print a message saying so\n",
        "  - if it's right, print a message saying so\n",
        "- allow for 3 chances\n",
        "- give a hint after 2 incorrect inputs \n"
      ]
    },
    {
      "cell_type": "code",
      "metadata": {
        "id": "qMKW1CJtTrsa"
      },
      "source": [
        "# [ ] Create the password program, run tests\n"
      ],
      "execution_count": null,
      "outputs": []
    },
    {
      "cell_type": "markdown",
      "metadata": {
        "id": "xPQbs21nu__-"
      },
      "source": [
        "# &nbsp;\n",
        "<font size=\"6\" color=\"#00A0B2\"  face=\"verdana\"> <B>Concept</B></font>\n",
        "## `while` with Boolean comparison operator\n",
        "with increment we used  **`break`** when count becomes greater than some number  \n",
        "\n",
        "The same result can be achieved by using **`while x < 5:`**"
      ]
    },
    {
      "cell_type": "markdown",
      "metadata": {
        "id": "s8rUT_X-xlMy"
      },
      "source": [
        "# &nbsp;\n",
        "<font size=\"6\" color=\"#00A0B2\"  face=\"verdana\"> <B>Examples</B></font>\n",
        "  \n"
      ]
    },
    {
      "cell_type": "code",
      "metadata": {
        "id": "UxtgqH3FxpVA"
      },
      "source": [
        "# review and run LIFT OFF\n",
        "lift_off = 5\n",
        "\n",
        "# loop while lift_off is greater than 0\n",
        "while lift_off > 0:\n",
        "    print(\"Lifet off in t-\" + str( lift_off ), \"seconds!\")\n",
        "    lift_off -= 1\n",
        "print(\"\\nACTIVATE THRUSTERS!\")"
      ],
      "execution_count": null,
      "outputs": []
    },
    {
      "cell_type": "markdown",
      "metadata": {
        "id": "zHRZdDtM6wh8"
      },
      "source": [
        "# &nbsp;\n",
        "<font size=\"6\" color=\"#B24C00\"  face=\"verdana\"> <B>Task 3</B></font>\n",
        "## Fix the Errors\n",
        "This loop never runs (this is a logic error - there is no ErrorMessage, but the code *doesn't work*)"
      ]
    },
    {
      "cell_type": "code",
      "metadata": {
        "id": "pddDNCox6-rB"
      },
      "source": [
        "# [ ] review the code, run, fix the Logic error\n",
        "count = 1\n",
        "\n",
        "# loop 5 times\n",
        "while count < 6:\n",
        "    print(count, \"x\", count, \"=\", count*count)\n",
        "    count +=1\n",
        "    \n"
      ],
      "execution_count": null,
      "outputs": []
    },
    {
      "cell_type": "markdown",
      "metadata": {
        "id": "1lc0RIUxDH5_"
      },
      "source": [
        "# &nbsp;\n",
        "<font size=\"6\" color=\"#00A0B2\"  face=\"verdana\"> <B>Concept</B></font>\n",
        "## `for` loops\n",
        "`for x in range( 3, 9, 2 )`\n",
        "\n",
        "`for` loops rely upon iterable objects to function.\n",
        "- they will always have a local variable that iterates through the specified object\n",
        "  - it does so sequentially\n",
        "- `range()` is commonly a used function in these loops. They return a **range** object\n",
        "  - only one argument is needed, though its parameter expects 3\n",
        "- the loop will continue until the local variable has iterated through the whole object or until a break has been called"
      ]
    },
    {
      "cell_type": "markdown",
      "metadata": {
        "id": "A6Klg3j5DUNv"
      },
      "source": [
        "# &nbsp;\n",
        "<font size=\"6\" color=\"#00A0B2\"  face=\"verdana\"> <B>Examples</B></font>\n"
      ]
    },
    {
      "cell_type": "code",
      "metadata": {
        "id": "VBh7Grg8DQIZ",
        "colab": {
          "base_uri": "https://localhost:8080/",
          "height": 146
        },
        "outputId": "91cce6ba-61ad-4cda-d89b-f400d611756f"
      },
      "source": [
        "# using range():\n",
        "#   > range( 5 ) will return a range object with the numbers 0,1,2,3,4,5 in that order. The first argument is the maximum. 0 is counted\n",
        "#   > range( 2, 4 ) will return a range object with the numbers 2,3 in that order. The second argument is the minimum. The min is counted. The default min is 0\n",
        "#   > range( 2, 9, 2 ) will return a range object with the numbers 2,4,6,8 in that order. The third argument is the step. The default step is 1\n",
        "\n",
        "\n",
        "# review and run the code\n",
        "count = 5\n",
        "\n",
        "# it will count to 5\n",
        "for x in range( count ):\n",
        "  print( x )\n",
        "  if x == 4:\n",
        "    print( \"Done!\" )"
      ],
      "execution_count": null,
      "outputs": [
        {
          "output_type": "stream",
          "text": [
            "2\n",
            "0\n",
            "1\n",
            "2\n",
            "3\n",
            "4\n",
            "Done!\n"
          ],
          "name": "stdout"
        }
      ]
    },
    {
      "cell_type": "markdown",
      "metadata": {
        "id": "cggdtC0xDaMh"
      },
      "source": [
        "# &nbsp;\n",
        "<font size=\"6\" color=\"#B24C00\"  face=\"verdana\"> <B>Task 4</B></font>\n",
        "### Program: Damage calculation\n",
        "- this function should execute a basic damage calculation that may be found in RPGs\n",
        "  - (damage - defence) * hit_count * miss\n",
        "- should have damage, defence, miss chance and hit count as parameters\n",
        "  - miss chance should be a percentage. Use the random function explained below to determine whether one of the attacks is a hit; if the random number is less than or equal to the miss chance, then the attack misses. If it's above, it hits.\n",
        "- return the total amount of damage dealt\n",
        "- *(optional)* add a critical strike chance to the formula. Critical strikes make attacks 2.0x stronger in most games.\n"
      ]
    },
    {
      "cell_type": "code",
      "metadata": {
        "id": "btX11fHpOpqE"
      },
      "source": [
        "# below is something we haven't covered yet. In future notebook we will go over it, but ignore it for now and do not delete it, as it is needed for this task\n",
        "import random\n",
        "random.seed()\n",
        "\n",
        "# random.randrange() is a statement we also haven't covered. However, for now, you just need to know its parameters are the same as range() and that it returns a random number within the specified range\n",
        "\n"
      ],
      "execution_count": null,
      "outputs": []
    },
    {
      "cell_type": "markdown",
      "metadata": {
        "id": "ymVfD0N6DT6q"
      },
      "source": [
        "# &nbsp;\n",
        "<font size=\"6\" color=\"#00A0B2\"  face=\"verdana\"> <B>Concept</B></font>\n",
        "## iterating with **strings**\n",
        "Strings are iterable. Therefore, they can be used in for loops. \n",
        "- for loops will iterate through strings by character"
      ]
    },
    {
      "cell_type": "markdown",
      "metadata": {
        "id": "ymnqeb1jDbT_"
      },
      "source": [
        "# &nbsp;\n",
        "<font size=\"6\" color=\"#00A0B2\"  face=\"verdana\"> <B>Examples</B></font>"
      ]
    },
    {
      "cell_type": "code",
      "metadata": {
        "id": "MpzIm17NDc--"
      },
      "source": [
        "# review and run the code\n",
        "code = \"2#C3!)o37_d0&eA87t(#&GW20(*Ais820T*@heB2^*#est\"\n",
        "deciphered_code = \"\"\n",
        "\n",
        "# removes any non-alphabetical character\n",
        "for char in code:\n",
        "    if char.isalpha():\n",
        "      deciphered_code += char\n",
        "\n",
        "print(\"\\n\" + deciphered_code )"
      ],
      "execution_count": null,
      "outputs": []
    },
    {
      "cell_type": "markdown",
      "metadata": {
        "id": "jahP7l0F9abT"
      },
      "source": [
        "# &nbsp;\n",
        "<font size=\"6\" color=\"#B24C00\"  face=\"verdana\"> <B>Task 5</B></font>\n",
        "### Program: Neat Schedule\n",
        "- get an input for the number of periods in a day\n",
        "- get a single input that contains all subjects within that day. They should be ordered according to their period\n",
        "  - they should be separated with spaces and/or commas. If they're not, return an invalid input message\n",
        "- use **`for`** to iterate through the subjects input and print out the schedule\n",
        "  - every period should be on its own line\n"
      ]
    },
    {
      "cell_type": "code",
      "metadata": {
        "id": "UTEARWRp__UE",
        "colab": {
          "base_uri": "https://localhost:8080/",
          "height": 109
        },
        "outputId": "56d77e6f-a285-465e-c703-cd2edfa107a9"
      },
      "source": [
        "subjects = input( \"What are your subjects today? (separate them with a comma or space) \")\n",
        "period, subject, skip, count = 1, \"\", False, 1\n",
        "\n",
        "print( \"\\nSCHEDULE\" )\n",
        "for z in subjects:\n",
        "  if z != \" \" and z != \",\":\n",
        "    subject += z\n",
        "    skip = False\n",
        "  if ( z == \" \" or z == \",\" or count == len( subjects ) ) and not skip: \n",
        "    print( \"Period\", str( period ) + \":\", subject )\n",
        "    period += 1\n",
        "    subject, skip = \"\", True\n",
        "  count += 1\n",
        "\n",
        "# example output:\n",
        "\n",
        "# Number of periods today: 4\n",
        "# Subjects today, ordered by period: Maths, English, Physics, Spanish\n",
        "\n",
        "# SUNDAY SCHEDULE\n",
        "# Period 1: Maths\n",
        "# Period 2: English\n",
        "# Period 3: Physics\n",
        "# Period 4: Spanish"
      ],
      "execution_count": null,
      "outputs": [
        {
          "output_type": "stream",
          "text": [
            "What are your subjects today? (separate them with a comma or space) French,English\n",
            "\n",
            "SCHEDULE\n",
            "Period 1: French\n",
            "Period 2: English\n"
          ],
          "name": "stdout"
        }
      ]
    }
  ]
}