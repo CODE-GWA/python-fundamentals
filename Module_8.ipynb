{
  "nbformat": 4,
  "nbformat_minor": 0,
  "metadata": {
    "colab": {
      "name": "Module 8",
      "provenance": [],
      "collapsed_sections": [],
      "include_colab_link": true
    },
    "kernelspec": {
      "name": "python3",
      "display_name": "Python 3"
    }
  },
  "cells": [
    {
      "cell_type": "markdown",
      "metadata": {
        "id": "view-in-github",
        "colab_type": "text"
      },
      "source": [
        "<a href=\"https://colab.research.google.com/github/CODE-GWA/python-fundamentals-student/blob/master/Module_8.ipynb\" target=\"_parent\"><img src=\"https://colab.research.google.com/assets/colab-badge.svg\" alt=\"Open In Colab\"/></a>"
      ]
    },
    {
      "cell_type": "markdown",
      "metadata": {
        "id": "6p7eyoUiwi-w"
      },
      "source": [
        "# 8 Intro Python\n",
        "## Indexes and lists\n",
        "- Indexing with iterables\n",
        "- The data type, **list**\n",
        "- The functions that pertain to list\n",
        "\n"
      ]
    },
    {
      "cell_type": "markdown",
      "metadata": {
        "id": "flTeVdQpX6iV"
      },
      "source": [
        "# &nbsp;\n",
        "<font size=\"6\" color=\"#00A0B2\"  face=\"verdana\"> <B>Concept</B></font>\n",
        "## Indexing\n",
        "\n",
        "Iterables are essentially any data type that can be sequenced through to return different segments of it. An index refers to a specific segment, or element, of an iterable. To look at an element of a specific index, apply square brackets with the index number within it at the end of the iterable.\n",
        "\n",
        "For example:\n",
        "- **`code@gwa[2]`** would return **`\"d\"`** because that's the third element of the string, which happens to be an iterable. Note that 0 is counted as an index.\n",
        "\n",
        "Negative indexes will start from the right and iterate through to the left:\n",
        "- **`code@gwa[-3]`** would return **`\"g\"`**. Note that -1 refers to the right-most element.\n",
        "\n",
        "Indexes can also be used as ranges, like so:\n",
        "- **`code@gwa[2:5]`** would return **`\"de@\"`** because those elements correspond to indexes 2-4. Note that, like the range() function, the stop is not included in the range.\n",
        "- **`code@gwa[:5]`** would return **`\"code@\"`** because the start index hasn't been defined\n",
        "- **`code@gwa[5:]`** would return **`\"gwa\"`** because the stop index hasn't been defined\n",
        "- Ranges can only iterate from left to right, so the position of the start index must be less than the position of the end index if you want to return an element. If this isn't the case, an empty object will be returned\n",
        "\n"
      ]
    },
    {
      "cell_type": "markdown",
      "metadata": {
        "id": "YYGN83_mBMKr"
      },
      "source": [
        "# &nbsp;\n",
        "<font size=\"6\" color=\"#00A0B2\"  face=\"verdana\"> <B>Examples</B></font>"
      ]
    },
    {
      "cell_type": "code",
      "metadata": {
        "id": "rsq6sKX5oeiX"
      },
      "source": [
        "#This deciphers words typed backwards\n",
        "backwards, decipher = input( \"Type a word backwards: \" ), \"\"\n",
        "\n",
        "for z in range( -1, len( backwards ) * -1 - 1, -1 ):\n",
        "  decipher += backwards[z]\n",
        "print( decipher )"
      ],
      "execution_count": null,
      "outputs": []
    },
    {
      "cell_type": "markdown",
      "metadata": {
        "id": "2jEc9o69TRF9"
      },
      "source": [
        "# &nbsp;\n",
        "<font size=\"6\" color=\"#B24C00\"  face=\"verdana\"> <B>Task 1.1</B></font>\n",
        "## Program: Deciphering a message\n",
        "\n",
        "You are a member of an intel division and have intercepted an encrypted message sent to an enemy officer. The message is: kCRo#Ffetreat*qcoD7. Said officer has been captured and, through interrogation methods, has revealed that the message says  \"Retreat\". He has also revealed that the third character of the encrypted message is always the first character of the actual message, and that the first character of the remaining characters will always start in the same position with every encrypted message. Other members of the intel divison have noted that the number at the end of the decrypted message refers to the length of the true message. Create a function that can decipher any future encrypted messages.\n",
        "\n",
        "- Create a function that can decrypt these encrypted messages\n",
        "- Input the encrypted message\n",
        "- Output the decrypted message\n",
        "- Test the code with custom inputs that follow the encryption rules \n",
        "\n",
        "For your reference:\n",
        "- The encrypted message is: kCRo#Ffetreat*qcoD7\n",
        "- The decrypted message is: Retreat\n",
        "- The third character of the encrypted message is the first character of the decrypted messsage\n",
        "- Remaining characters of the decrypted message will always start in the same position in the encrypted messages\n"
      ]
    },
    {
      "cell_type": "code",
      "metadata": {
        "id": "7mSpY947TZBe"
      },
      "source": [
        ""
      ],
      "execution_count": null,
      "outputs": []
    },
    {
      "cell_type": "markdown",
      "metadata": {
        "id": "WsRXisEkVtK9"
      },
      "source": [
        "# &nbsp;\n",
        "<font size=\"6\" color=\"#00A0B2\"  face=\"verdana\"> <B>Concept</B></font>\n",
        "## Lists: a new data type\n",
        "\n",
        "\n",
        "Lists are another data type that is useful for storing multiple related variables. \n",
        "\n",
        "Their syntax is as follows:\n",
        "- **`[3, '4', 5.0 ]`**. The brackets, [ ], are the defining trait of lists. Anything within them is considered one of its elements, which are separated as commas. Note that lists can contain a variety of data types.\n",
        "\n",
        "Like strings, they are also iterable:\n",
        "- **`[3, '4', 5.0 ][2]`** would return 5.0\n",
        "- **`[3, '4', 5.0 ][:-1]`** would return 3 and '4'\n",
        "\n",
        "Elements of lists can be reassigned new variables:\n",
        "- **`[3, '4', 5.0 ][2] = \"E\"`** would make the list **`[3, '4', 'E' ][2]`**\n",
        "\n",
        "in and len() can also be applied to lists:\n",
        "- **`3 in [3, '4', 5.0 ]`** would return True\n",
        "- **`len( [3, '4', 5.0 ] )`** would return 3\n",
        "\n",
        "The following functions can add or remove elements from lists:\n",
        "- **`.append()`** - the input will be added to the end of the target list\n",
        "- **`.insert( , )`** - the second input will be added at the position of the first input\n",
        "- **`.remove()`** - the input will be removed from the target list. If the input is not in the list, an error will be returned.\n",
        "- **`.pop()`** - the input, which refers to an index, will be removed from the target list and returned in this statement. If the index is out of the index range, an error will be returned.\n",
        "- **`.clear()`** - all elements will be cleared from the specified list\n",
        "- **`del`** - a specified index/range of a list should succeed this statement. This will remove the relevant items.\n",
        "\n",
        "Other relevant functions:\n",
        "- **`.count()`** - returns the number of inputs that are in the specified list\n",
        "- **`.index()`** - returns the first index instance of the input\n",
        "- **`.reverse()`** - reverses the order of the list\n",
        "- **`.sort()`** - sorts the specified function alphabetically by default. Inputs can determine how it's sorted and if it should be reversed. "
      ]
    },
    {
      "cell_type": "markdown",
      "metadata": {
        "id": "M3gqMwCcBPsV"
      },
      "source": [
        "# &nbsp;\n",
        "<font size=\"6\" color=\"#00A0B2\"  face=\"verdana\"> <B>Examples</B></font>"
      ]
    },
    {
      "cell_type": "code",
      "metadata": {
        "id": "99cIV092MKfW"
      },
      "source": [
        "#Code for a Bingo Book, or a list of individuals who have been marked for assassination\n",
        "#Checks if any targets have been eliminated or added\n",
        "\n",
        "incomplete, bb, other_target = True, [ \"Deidara\", \"Itachi\", \"Nagato\", \"Kakuzu\", \"Sasori\", \"Hidan\", \"Kisame\", \"Zetsu\", \"Konan\" ], input( \"Has a target been added to the Bingo Book? (Y/N) \" )\n",
        "\n",
        "if other_target.upper() == \"Y\":\n",
        "  bb.append( input( \"What is their name? \") .title() )\n",
        "elif other_target.upper() == \"N\":\n",
        "  print( \"Alright. Noted\" )\n",
        "else:\n",
        "  print( \"Invalid input\" )\n",
        "\n",
        "dead = input( \"\\nWho has been eliminated? \" ).title()\n",
        "if dead in bb:\n",
        "  print( bb.pop( bb.index( dead ) ), \"has been eliminated!\" )\n",
        "else:\n",
        "  print( \"I see...\" )\n",
        "\n",
        "print( \"\\nThe following are top-priority targets: \", bb )\n"
      ],
      "execution_count": null,
      "outputs": []
    },
    {
      "cell_type": "markdown",
      "metadata": {
        "id": "699etbHLe5Zm"
      },
      "source": [
        "# &nbsp;\n",
        "<font size=\"6\" color=\"#00A0B2\"  face=\"verdana\"> <B>Concept</B></font>\n",
        "## Nested lists\n",
        "\n",
        "Lists can contain lists, effectively allowing for an infinite chain of nested lists. \n",
        "- **`[[ 1, 2, 3 ], '4', 5.0 ][ 0 ][ 1 ]`** would return 2, as the first index refers to the first element (which happens to be a list) in the global list and the second index refers to the second element of the nested list\n"
      ]
    },
    {
      "cell_type": "markdown",
      "metadata": {
        "id": "abBmKNPruzAR"
      },
      "source": [
        "# &nbsp;\n",
        "<font size=\"6\" color=\"#00A0B2\"  face=\"verdana\"> <B>Examples</B></font>"
      ]
    },
    {
      "cell_type": "code",
      "metadata": {
        "id": "j4qWCP3Luzaj"
      },
      "source": [
        "#Editing a list of fruits and vegetables\n",
        "fruits_and_vegetables = [ [ 'apples', 'oranges', 'pears', 'grapes' ], [ 'broccoli', 'carrots', 'beans', 'eggplant' ] ]\n",
        "print( fruits_and_vegetables, '\\n' )\n",
        "\n",
        "fruits_and_vegetables[ 0 ].append( 'banana' )\n",
        "fruits_and_vegetables[ 1 ][ 2 ] = 'green beans'\n",
        "\n",
        "print( fruits_and_vegetables )"
      ],
      "execution_count": null,
      "outputs": []
    },
    {
      "cell_type": "markdown",
      "metadata": {
        "id": "ObCsN27xTMGy"
      },
      "source": [
        "# &nbsp;\n",
        "<font size=\"6\" color=\"#B24C00\"  face=\"verdana\"> <B>Task 1.2</B></font>\n",
        "## Program: Intercepting more messages\n",
        "\n",
        "More messages directed towards the commanding officer of the opposition have been intercepted. They are as follows: \n",
        "\n",
        "\"kCRo#Ffetreat*qcoD7\", \"f(b!id#ack10s4\", \"2^acoDcndw3\", \"843fiA*0&u\", \"ci4caiE1Po\", \"iOcCI$1onveneocPW7\", \"C8wCU2vithcA4\", \"citP4_\"\"cheiC)@hep3\", \"cj3ID2%rdcIAP03\", \"br10tEr0sMlctr!\"Po8erJE0..\", \"+`7cH\", \"cId{{aDivisionAdd8\"\n",
        "\n",
        "Using your previous function, compile this and the previous message into one list. The order in which they are listed matters. Superiors of the intel division have also ordered that all messages without numbers at the end are to be separated into a different list in the order in which they appeared. They have dubbed these messages without numbers at the end as integers of interest (II). \n",
        "\n",
        "They've noted IIs seem to contain integers **that are 1-2 digits long** in the position of their second index or third character. If there is an integer to the right of the third character, then that integer is a part of the whole number. Additionally, if IIs are at least eight characters long, the eighth character, or seventh index, is a second important integer. This will always be one digit long. For example, the II \"ci11CIe4..\" hides the integers \"11\" and \"4.\" No one is sure of what these integers mean, but you have been told to store these in a list in the order in which the IIs appear.\n",
        "\n",
        "- Compile a list of all the non-IIs encrypted strings and decrypt them with your previous function. The final version of this list should have all the messages decrypted\n",
        "- Remove the strings that don't have numbers at the end and extract the hidden integers within them into a separate list in the order in which they appear. If there are two hidden integers in IIs, store them as a nested list in the format of [x,y]\n",
        "- Save these lists as variables\n",
        "\n"
      ]
    },
    {
      "cell_type": "code",
      "metadata": {
        "id": "7LT4XoZpTZ5i"
      },
      "source": [
        ""
      ],
      "execution_count": null,
      "outputs": []
    },
    {
      "cell_type": "markdown",
      "metadata": {
        "id": "jsNNOewV9V0B"
      },
      "source": [
        "# &nbsp;\n",
        "<font size=\"6\" color=\"#B24C00\"  face=\"verdana\"> <B>Task 1.3</B></font>\n",
        "## Program: Alternative messages\n",
        "\n",
        "Other members of the intel division have reported that certain parts of the intercepted message were transmitted differently to other opposing officers. It seems that the fourth element in the series could have been \"iOcCI$1onveneocPW7\", \"EEbeflireakave5\", or \"liam3(imbush&&c6\". The fifth element could have been \"stwopC9ithoutglggc907\", or \"C8wCU2vithcA4\". Change these items in your list to lists containing both possible decrypted messages.\n",
        "- Compile nested lists with the alternative messages of the fourth and fifth elements within the list of decrypted messages. "
      ]
    },
    {
      "cell_type": "code",
      "metadata": {
        "id": "nipFGmcekQbe"
      },
      "source": [
        ""
      ],
      "execution_count": null,
      "outputs": []
    },
    {
      "cell_type": "markdown",
      "metadata": {
        "id": "RQ_cL8IiYlNH"
      },
      "source": [
        "# &nbsp;\n",
        "<font size=\"6\" color=\"#00A0B2\"  face=\"verdana\"> <B>Concept</B></font>\n",
        "## Joining lists\n",
        "\n",
        "Like strings, lists can be joined together through concatenation:\n",
        "- **`[\"This\", \"is\", \"a\"] + [\"complete\", \"sentence\"]`** will return **`[\"This\", \"is\", \"a\"\", \"complete\", \"sentence\"]`**\n",
        "\n",
        "The .extend() function can also be used. This is more flexible that concatentation, as any iterable can be joined to the end of the list:\n",
        "- **`[\"This\", \"is\", \"a\"].extend( [\"complete\", \"sentence\"] )`** will make the list into **`[\"This\", \"is\", \"a\"\", \"complete\", \"sentence\"]`**\n",
        "- **`[\"a\", \"b\", \"c\" ].extend( \"defg\" )`** will make the list into **`[\"a\", \"b\", \"c\"\", \"d\", \"e\", \"f\", \"g\" ]`**\n"
      ]
    },
    {
      "cell_type": "markdown",
      "metadata": {
        "id": "llEbJDL2TNut"
      },
      "source": [
        "# &nbsp;\n",
        "<font size=\"6\" color=\"#B24C00\"  face=\"verdana\"> <B>Task 1.4</B></font>\n",
        "## Program: Retrieving the true message\n",
        "\n",
        "Three more sentences have been intercepted. They all succeed the previous one, but they don't make sense whatsoever. However, the intel division has cracked the purpose behind the integers from the IIs: they refer to the index numbers within the decrypted non-II list. If there are two digits, the first one refers to a nested list, and the second one refers to an element within this nested list. If there is only one digit, the element will be a string. For example, if you have the decrypted IIs, [0, [2, 1]], and your decrypted non-IIs are [\"Hello\", \"world\", [\"!\", \"...\"]], your final message would be \"Hello...\"\n",
        "\n",
        "So, first process the following lists like you've done previously, separating the decrypted IIs into the decrypted II list in the order in which they appear. Then, add the decrypted non-IIs as lists to the main list so that they're nested within it. Use all of the decrypted IIs to print out the true message.\n",
        "\n",
        "*Note that because it is an encrypted message, the true message may not be entirely grammaticaly correct\n",
        "\n",
        "[ \"Ri8nnegthan@50%is3\", \"st9ahpi9t\", \"idhkwhaourto4\", \"sasyanyharpmore45\", \"wh9oisB5etter\", \"inWtermesternsof7\", \"watiFu?imeRemor4\" ]\n",
        "\n",
        "[ \"we.8cU@Thisisafalsemessagelookelsewhere5\", \"ststartuicideingmessageswith5thpositionnow7\", \"EnmcrypissiontionCodechange2^^7&@Alcu7\", \"Em10lia1?\", \"whsoiZsoTRonker?2\", \"AipnzorushTaNya?4\", \"liTttlehelolivs3\", \"bifgbonrontebruh!5\", \"tb9h,so6farRem\", \"skheletardron4sher4\", \"Noa_onendCan3\", \"befatSaast.itamatho5\" ]\n",
        "\n",
        "[ \"Ictanmaheke3\", \"asEmuchasterns_*hcit7\", \"upAasIwllianceant8\", \"buwtImuillstbe4\", \"is100xb3etter\", \"caarefuidlenot23\", \"swuearbscuzitbad2\", \"aL3hemy1elrc ]\n",
        "\n",
        "\n",
        "- Process these lists by following the same process in Task 1.2\n",
        "- Add them to the global list with the decrypted messages\n",
        "- Use the integer list to determine what messages are part of the true message\n",
        "- Print out the true message"
      ]
    },
    {
      "cell_type": "code",
      "metadata": {
        "id": "d2kNpbhWTOTs"
      },
      "source": [
        ""
      ],
      "execution_count": null,
      "outputs": []
    },
    {
      "cell_type": "markdown",
      "metadata": {
        "id": "WtV5UIbWbVh1"
      },
      "source": [
        "# &nbsp;\n",
        "<font size=\"6\" color=\"#00A0B2\"  face=\"verdana\"> <B>Concept</B></font>\n",
        "## Copying lists\n",
        "\n",
        "If you want to assign the value of a list to another list, you have to use .copy(). This is because anything that is assigned to the value of another list will be a reference to it, meaning any changes made to that list will be applied to the original list. \n",
        "\n",
        "- **`.copy()`** returns a true copy of the specified list"
      ]
    },
    {
      "cell_type": "markdown",
      "metadata": {
        "id": "v7cZfNlYw7Su"
      },
      "source": [
        "# &nbsp;\n",
        "<font size=\"6\" color=\"#B24C00\"  face=\"verdana\"> <B>Task 2</B></font>\n",
        "## Program: Blackjack\n",
        "If you don't know, in Blackjack, the objective is to get as high as a score possible without going over 21. This game uses a standard deck of 52 playing cards. Cards with a number on them are worth that number. Aces can be either ones or elevens--its value is up to you. Kings, queens and jacks are worth ten. If you hold 5 or more cards and aren't over, you automatically win. Your opponent will be the computer. You will not be able to see its cards until you have decided to stop drawing that round or if you are bust (above 21). You start with 2 cards and can continue to draw more, one at a time. Again, if you're over 21, you automatically lose.\n",
        "\n",
        "- Start with 2 random cards and remove them from the possible cards that can be drawn. If you don't know the card types, check below. The value of your hand should be displayed \n",
        "- Input message asking if you want to draw another one\n",
        "  - If yes, then add that card's value to your score and remove it from the possible card list. Your updated card value should be displayed\n",
        "  - If no, the computer should draw its cards\n",
        "- The way in which the computer should draw its cards could be done in multiple ways:\n",
        "  - If the computer is below 21, they will always draw\n",
        "  - If the computer is below a certain threshold, like 15, then a randomiser can be used to determine if draws a card or not\n",
        "  - The likelihood of the computer drawing a card scales with the value of its current hand. For example, a hand of 10 means the computer would have a 100% of drawing a card, but a hand of 16 means the computer would have a 40% chance, and a hand of 18 means it has a 20% chance, and so on.\n",
        "  - Feel free to use your own method\n",
        "- Add checks for if you go over 21 or have a hand of 5\n",
        "- Computer's values and your values should be compared at the end to determine a winner\n",
        "- Option to choose whether an ace is equal to 1 or 11\n",
        "- Show current cards\n",
        "- (optional) Add an option for the player to play again, with everything being reset. \n",
        "  - Additionally, a score could be kept to see how many times the player has won/lost\n",
        "  - You could also bet money, by adding a money variable. You and the computer start with a certain amount and if you go down to 0, you lose.\n",
        "\n",
        "\n",
        "For your reference:\n",
        "- You start with 2 cards and can decide to draw more, one at a time\n",
        "- You automatically win if you hold 5 cards\n",
        "- You automatically lose if you're above 21\n",
        "- The computer goes after you and you can't see their cards until you've settled\n",
        "- Cards 2-10 are worth their number\n",
        "- Aces can be either 1s or 11s\n",
        "- Kings, queens, and jacks are all worth 10\n",
        "- The possible cards are: Ace,2,3,4,5,6,7,8,9,10,Jack,Queen,King\n",
        "- Remember there are 4 suits in a deck of cards, so there are 4 variants of everything\n"
      ]
    },
    {
      "cell_type": "code",
      "metadata": {
        "id": "pFl9agfqwLsA"
      },
      "source": [
        "#We haven't gone over modules yet, but just know that this allows for randomness to be added\n",
        "import random\n",
        "\n",
        "#This intialises something called a random seed\n",
        "random.seed()\n",
        "\n",
        "#This will return a random number within the specified range\n",
        "random.randrange( #start, #stop, #step )"
      ],
      "execution_count": null,
      "outputs": []
    }
  ]
}