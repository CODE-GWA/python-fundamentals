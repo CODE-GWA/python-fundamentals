{
  "nbformat": 4,
  "nbformat_minor": 0,
  "metadata": {
    "anaconda-cloud": {},
    "kernelspec": {
      "display_name": "Python 3",
      "language": "python",
      "name": "python3"
    },
    "language_info": {
      "codemirror_mode": {
        "name": "ipython",
        "version": 3
      },
      "file_extension": ".py",
      "mimetype": "text/x-python",
      "name": "python",
      "nbconvert_exporter": "python",
      "pygments_lexer": "ipython3",
      "version": "3.5.1"
    },
    "colab": {
      "name": "Module 3",
      "provenance": [],
      "include_colab_link": true
    }
  },
  "cells": [
    {
      "cell_type": "markdown",
      "metadata": {
        "id": "view-in-github",
        "colab_type": "text"
      },
      "source": [
        "<a href=\"https://colab.research.google.com/github/CODE-GWA/python-fundamentals-student/blob/master/Module_3.ipynb\" target=\"_parent\"><img src=\"https://colab.research.google.com/assets/colab-badge.svg\" alt=\"Open In Colab\"/></a>"
      ]
    },
    {
      "cell_type": "markdown",
      "metadata": {
        "id": "RMfdrwQq4-ei"
      },
      "source": [
        "# 3 Intro Python\n",
        "## Functions Arguments & Parameters\n",
        "- **Creating a simple Function with a parameter**\n",
        "- Exploring Functions with `return` values \n",
        "- Creating Functions with multiple parameters\n",
        "- Sequence in python  \n"
      ]
    },
    {
      "cell_type": "markdown",
      "metadata": {
        "id": "y9qgrPZw4-el"
      },
      "source": [
        "# &nbsp;\n",
        "<font size=\"6\" color=\"#00A0B2\"  face=\"verdana\"> <B>Concept</B></font>\n",
        "## Calling Functions with Arguments\n",
        "Functions are used for code tasks that are intended to be reused \n",
        "\n",
        "\n",
        "Python allows us to create **User Defined Functions** and provides many **Built-in Functions** such as **`print()`**  \n",
        "- **`print()`** can be called using arguments (or without) and sends text to standard output, such as the console. Arguments are simply inputs, so in the case of  **`print()`**, the argument(s) would the string(s) within its parenthesis\n",
        "- **`print()`** uses **Parameters** to define the variable Arguments that can be passed to the Function. \n",
        "- **`print()`** defines multiple string/numbers parameters which means we can send a long list of Arguments to **`print()`**, separated by commas.   \n",
        "- **`print()`** can also be called directly with just its name and empty parentheses and it will return a blank line to standard output"
      ]
    },
    {
      "cell_type": "markdown",
      "metadata": {
        "id": "dhLQhV2t4-ep"
      },
      "source": [
        "# &nbsp;\n",
        "<font size=\"6\" color=\"#00A0B2\"  face=\"verdana\"> <B>Examples</B></font>"
      ]
    },
    {
      "cell_type": "code",
      "metadata": {
        "id": "AuvG2QCH4-er",
        "colab": {
          "base_uri": "https://localhost:8080/",
          "height": 35
        },
        "outputId": "8dd60d51-e287-4560-8850-4fb9ec57ca64"
      },
      "source": [
        "print('Hello World!', 'I am sending string arguments to print ')"
      ],
      "execution_count": null,
      "outputs": [
        {
          "output_type": "stream",
          "text": [
            "Hello World! I am sending string arguments to print \n"
          ],
          "name": "stdout"
        }
      ]
    },
    {
      "cell_type": "code",
      "metadata": {
        "id": "_hzmSfff4-fB",
        "colab": {
          "base_uri": "https://localhost:8080/",
          "height": 35
        },
        "outputId": "312f1308-e3d1-414f-f8d7-671258783b7e"
      },
      "source": [
        "student_age = 17\n",
        "student_name = \"Hiroto Yamaguchi\"\n",
        "print(student_name,'will be in the class for',student_age, 'year old students.')"
      ],
      "execution_count": null,
      "outputs": [
        {
          "output_type": "stream",
          "text": [
            "Hiroto Yamaguchi will be in the class for 17 year old students.\n"
          ],
          "name": "stdout"
        }
      ]
    },
    {
      "cell_type": "code",
      "metadata": {
        "id": "u2Q_Pl8Y4-fQ",
        "colab": {
          "base_uri": "https://localhost:8080/",
          "height": 90
        },
        "outputId": "d17274aa-ccf9-40c1-8c96-aa938650e766"
      },
      "source": [
        "print(\"line 1\")\n",
        "print(\"line 2\")\n",
        "# line 3 is an empty return - the default when no arguments\n",
        "print()\n",
        "print(\"line 4\")"
      ],
      "execution_count": null,
      "outputs": [
        {
          "output_type": "stream",
          "text": [
            "line 1\n",
            "line 2\n",
            "\n",
            "line 4\n"
          ],
          "name": "stdout"
        }
      ]
    },
    {
      "cell_type": "markdown",
      "metadata": {
        "collapsed": true,
        "id": "-qJtuh4v4-fu"
      },
      "source": [
        "# &nbsp;\n",
        "<font size=\"6\" color=\"#00A0B2\"  face=\"verdana\"> <B>Concept</B></font>\n",
        "## Create a simple Function\n",
        "Creating user defined functions is at the core of computer programming.  Functions enable code reuse and make code easier to develop and maintain. To do so, observe the following:\n",
        "\n",
        "\n"
      ]
    },
    {
      "cell_type": "markdown",
      "metadata": {
        "id": "hmGSBmzu4-fx"
      },
      "source": [
        "### `def some_function(an_input):`\n",
        "- the &nbsp;**`def`** &nbsp;statement will initialise a **function**  \n",
        "- the &nbsp;**`some_function`** &nbsp;portion of the above is the user-defined name of the **function**  \n",
        "- function names can contain **letters, numbers or underscores**\n",
        "- parenthesis &nbsp; **()**  &nbsp; follow the function name. Whatever is within the parenthesis will be the expected input or argument of the function. In this case,  &nbsp;**`some_function`** &nbsp; is expecting  &nbsp;**`an_input`** &nbsp;; without it, an error will be returned. The data type of this input doesn't matter, either. If the user does not wish to input anything, the parenthesis may be left empty. These expected arguments are the **parameters** of the function.\n",
        "- a colon &nbsp; **:**  &nbsp; follows the parenthesis\n",
        "- when coding the function, and indent must be made after the initial statement. This can be done with the tab key. \n",
        "\n",
        "```python\n",
        "def some_function(an_input):\n",
        "   #code the function tasks indented here    \n",
        "```\n"
      ]
    },
    {
      "cell_type": "markdown",
      "metadata": {
        "id": "ZY5Xt7ZZ4-f0"
      },
      "source": [
        "# &nbsp;\n",
        "<font size=\"6\" color=\"#00A0B2\"  face=\"verdana\"> <B>Examples</B></font>"
      ]
    },
    {
      "cell_type": "code",
      "metadata": {
        "id": "JBmWDjRp4-f2"
      },
      "source": [
        "# defines a function named say_hi\n",
        "def say_hi():\n",
        "    print(\"Hello there!\")\n",
        "    print(\"goodbye\")"
      ],
      "execution_count": null,
      "outputs": []
    },
    {
      "cell_type": "code",
      "metadata": {
        "id": "RgAmoMYv4-gB"
      },
      "source": [
        "# define three_three \n",
        "def three_three():\n",
        "    print(33) "
      ],
      "execution_count": null,
      "outputs": []
    },
    {
      "cell_type": "code",
      "metadata": {
        "id": "VI9sLU0l4-gL",
        "colab": {
          "base_uri": "https://localhost:8080/",
          "height": 90
        },
        "outputId": "bb39b0c4-7f00-4892-9ba6-bc8f82e42ee9"
      },
      "source": [
        "# Program defines and calls the say_hi & three_three functions\n",
        "# [ ] review and run the code\n",
        "\n",
        "def say_hi():\n",
        "    print(\"Hello there!\")\n",
        "    print(\"goodbye\", \"\\n\")\n",
        "# end of indentation ends the function\n",
        "\n",
        "# define three_three \n",
        "def three_three():\n",
        "    print(33) \n",
        "\n",
        "# calling the functions\n",
        "say_hi()\n",
        "three_three()"
      ],
      "execution_count": null,
      "outputs": [
        {
          "output_type": "stream",
          "text": [
            "Hello there!\n",
            "goodbye \n",
            "\n",
            "33\n"
          ],
          "name": "stdout"
        }
      ]
    },
    {
      "cell_type": "markdown",
      "metadata": {
        "id": "HD85mBuj4-gT"
      },
      "source": [
        "# &nbsp;\n",
        "<font size=\"6\" color=\"#B24C00\"  face=\"verdana\"> <B>Task 1</B></font>\n",
        "## Define and call a simple function &nbsp; `yell_it()` \n",
        "### `yell_it()` &nbsp; prints the phrase with \"!\" concatenated to the end\n",
        "- takes no arguments\n",
        "- indented function code does the following\n",
        "  - define a variable for called **`phrase`** and intialize with a short *phrase*\n",
        "  - prints **`phrase`** as all upper-case letters followed by \"!\"\n",
        "- call &nbsp; `yell_it` &nbsp; at the bottom of the cell after the function &nbsp;**`def`**&nbsp; (**Tip:** no indentation should be used)"
      ]
    },
    {
      "cell_type": "code",
      "metadata": {
        "id": "i4KZ2avJ4-gV",
        "colab": {
          "base_uri": "https://localhost:8080/",
          "height": 54
        },
        "outputId": "2a7dc0b6-63e9-4b9a-9ee9-631e312afe92"
      },
      "source": [
        "#[ ] define (def) a simple function called yell_it() and call the function\n",
        "\n",
        "def yell_it( phrase = input( \"What do you want to yell?\" )):\n",
        "  print( phrase.upper() + \"!\" )\n",
        "\n",
        "yell_it()"
      ],
      "execution_count": null,
      "outputs": [
        {
          "output_type": "stream",
          "text": [
            "What do you want to yell?code@gwa\n",
            "CODE@GWA!\n"
          ],
          "name": "stdout"
        }
      ]
    },
    {
      "cell_type": "markdown",
      "metadata": {
        "id": "aJtlY-oO4-gd"
      },
      "source": [
        "# &nbsp;\n",
        "<font size=\"6\" color=\"#00A0B2\"  face=\"verdana\"> <B>Concept</B></font>\n",
        "## Functions that have Parameters\n",
        "\n",
        "**`print()`** and **`type()`** are examples of built-in functions that have **Parameters** defined  \n",
        "  \n",
        "**`type()`** has a parameter for a **Python Object** and sends back the *type* of the object\n",
        "  \n",
        "\n",
        "## Defining Function Parameters\n",
        "- Parameters are defined inside of the parenthesis as part of a function **`def`** statement\n",
        "- Parameters are typically copies of objects that are available for use in function code\n",
        "```python\n",
        "def say_this(phrase):  \n",
        "      print(phrase)\n",
        "```  \n"
      ]
    },
    {
      "cell_type": "markdown",
      "metadata": {
        "id": "24yOIxnk4-gf"
      },
      "source": [
        "## &nbsp;\n",
        "<font size=\"6\" color=\"#00A0B2\"  face=\"verdana\"> <B>Example</B></font>"
      ]
    },
    {
      "cell_type": "code",
      "metadata": {
        "id": "4KrHxtg_4-gf",
        "colab": {
          "base_uri": "https://localhost:8080/",
          "height": 35
        },
        "outputId": "1fb3df3a-ad32-4722-f303-928903fea04d"
      },
      "source": [
        "# yell_this() yells the string Argument provided\n",
        "def yell_this(phrase):\n",
        "    print(phrase.upper() + \"!\")\n",
        "    \n",
        "# call function with a string\n",
        "yell_this(\"It is time to save the notebook\")"
      ],
      "execution_count": null,
      "outputs": [
        {
          "output_type": "stream",
          "text": [
            "IT IS TIME TO SAVE THE NOTEBOOK!\n"
          ],
          "name": "stdout"
        }
      ]
    },
    {
      "cell_type": "code",
      "metadata": {
        "id": "SxOiA_5p4-gn",
        "colab": {
          "base_uri": "https://localhost:8080/",
          "height": 54
        },
        "outputId": "05b27fa3-24ea-4460-8fa6-e3d31ebdc8a4"
      },
      "source": [
        "# use a default argument\n",
        "def say_this(phrase = \"Hi\"):  \n",
        "    print(phrase)\n",
        "        \n",
        "say_this()\n",
        "say_this(\"Bye\")"
      ],
      "execution_count": null,
      "outputs": [
        {
          "output_type": "stream",
          "text": [
            "Hi\n",
            "Bye\n"
          ],
          "name": "stdout"
        }
      ]
    },
    {
      "cell_type": "markdown",
      "metadata": {
        "id": "8CARTIro4-gw"
      },
      "source": [
        "# &nbsp;\n",
        "<font size=\"6\" color=\"#B24C00\"  face=\"verdana\"> <B>Task 2</B></font>\n",
        "\n",
        "## Define `yell_this()` and call with variable argument \n",
        "- define variable &nbsp; **`words_to_yell`** &nbsp; as a string gathered from user&nbsp; `input()`\n",
        "- Call &nbsp;**`yell_this()`** &nbsp;with &nbsp; **`words_to_yell`** &nbsp;as argument\n",
        "- get user input() for the string words_to_yell"
      ]
    },
    {
      "cell_type": "code",
      "metadata": {
        "id": "lWHa5BAc4-gz",
        "colab": {
          "base_uri": "https://localhost:8080/",
          "height": 54
        },
        "outputId": "59a8da6f-3e82-4205-e615-f45251741600"
      },
      "source": [
        "# [ ] define yell_this() \n",
        "def yell_this( words_to_yell ):\n",
        "  print( words_to_yell.upper() + \"!\" )\n",
        "# [ ] get user input in variable words_to_yell\n",
        "words_to_yell = input( 'Yell something:' )\n",
        "# [ ] call yell_this function with words_to_yell as argument\n",
        "yell_this( words_to_yell )\n",
        "\n"
      ],
      "execution_count": null,
      "outputs": [
        {
          "output_type": "stream",
          "text": [
            "Yell something:hi\n",
            "HI!\n"
          ],
          "name": "stdout"
        }
      ]
    },
    {
      "cell_type": "markdown",
      "metadata": {
        "id": "YXQVieqJ4-g6"
      },
      "source": [
        "# &nbsp;\n",
        "<font size=\"6\" color=\"#00A0B2\"  face=\"verdana\"> <B>Concepts</B></font>\n",
        "\n",
        "## creating a function with a return value  \n",
        "- **`return`** keyword in a function *returns* a value after *exiting* the function  \n",
        "\n",
        "```python\n",
        "def msg_double(phrase):\n",
        "      double = phrase + \" \" + phrase\n",
        "      return double\n",
        "```  \n"
      ]
    },
    {
      "cell_type": "markdown",
      "metadata": {
        "id": "cPIJCy9WCKEp"
      },
      "source": [
        "## &nbsp;\n",
        "<font size=\"6\" color=\"#00A0B2\"  face=\"verdana\"> <B>Example</B></font>  \n",
        "  \n",
        "review and run the code"
      ]
    },
    {
      "cell_type": "code",
      "metadata": {
        "id": "KXo8a2oECMWk",
        "colab": {
          "base_uri": "https://localhost:8080/",
          "height": 35
        },
        "outputId": "b405d0e6-8053-4ba1-8203-e000cbb03455"
      },
      "source": [
        "# Message double returns the string Argument doubled\n",
        "def msg_double(phrase):\n",
        "      double = phrase + \" \" + phrase\n",
        "      return double\n",
        "\n",
        "# save return value in variable\n",
        "msg_2x = msg_double(\"let's go\")\n",
        "print(msg_2x)"
      ],
      "execution_count": null,
      "outputs": [
        {
          "output_type": "stream",
          "text": [
            "let's go let's go\n"
          ],
          "name": "stdout"
        }
      ]
    },
    {
      "cell_type": "code",
      "metadata": {
        "id": "m05sBUr6COKL",
        "colab": {
          "base_uri": "https://localhost:8080/",
          "height": 54
        },
        "outputId": "250661cc-0c5f-4f69-f816-0fc8559c6e25"
      },
      "source": [
        "# example of functions with return values used in functions\n",
        "def msg_double(phrase):\n",
        "      double = phrase + \" \" + phrase\n",
        "      return double\n",
        "\n",
        "# prints the returned object\n",
        "print(msg_double(\"Save Now!\"))\n",
        "\n",
        "# echo the type of the returned object\n",
        "type(msg_double(\"Save Now!\"))"
      ],
      "execution_count": null,
      "outputs": [
        {
          "output_type": "stream",
          "text": [
            "Save Now! Save Now!\n"
          ],
          "name": "stdout"
        },
        {
          "output_type": "execute_result",
          "data": {
            "text/plain": [
              "str"
            ]
          },
          "metadata": {
            "tags": []
          },
          "execution_count": 29
        }
      ]
    },
    {
      "cell_type": "markdown",
      "metadata": {
        "id": "JId4-eYoCLG3"
      },
      "source": [
        "# &nbsp;\n",
        "<font size=\"6\" color=\"#B24C00\"  face=\"verdana\"> <B>Task 3</B></font>\n",
        "\n",
        "## Doctor: a function that adds the \"Doctor\" title to a name\n",
        "- define function `make_doctor()`&nbsp; that takes a parameter `name`\n",
        "- get user **input** for variable **`full_name`**\n",
        "- call the function using `full_name` &nbsp; as argument\n",
        "- print the return value"
      ]
    },
    {
      "cell_type": "code",
      "metadata": {
        "id": "MM0_LKiyCUh0",
        "colab": {
          "base_uri": "https://localhost:8080/",
          "height": 54
        },
        "outputId": "1cf73f73-2510-4ed4-f42d-f70d3bbbe067"
      },
      "source": [
        "# create and call make_doctor() with full_name argument from user input - then print the return value\n",
        "def make_doctor( name ):\n",
        "  return \"Dr. \" + name\n",
        "\n",
        "make_doctor( input( \"What is your name? \"))"
      ],
      "execution_count": null,
      "outputs": [
        {
          "output_type": "stream",
          "text": [
            "What is your name? Sarah\n"
          ],
          "name": "stdout"
        },
        {
          "output_type": "execute_result",
          "data": {
            "application/vnd.google.colaboratory.intrinsic+json": {
              "type": "string"
            },
            "text/plain": [
              "'Dr. Sarah'"
            ]
          },
          "metadata": {
            "tags": []
          },
          "execution_count": 30
        }
      ]
    },
    {
      "cell_type": "markdown",
      "metadata": {
        "id": "weed0SLaCdKb"
      },
      "source": [
        "# &nbsp;\n",
        "<font size=\"6\" color=\"#00A0B2\"  face=\"verdana\"> <B>Concepts</B></font>\n",
        "## Functions with multiple parameters\n",
        "Functions can have multiple parameters separated by commas"
      ]
    },
    {
      "cell_type": "markdown",
      "metadata": {
        "id": "N6AdmsC3Ctyx"
      },
      "source": [
        "## &nbsp;\n",
        "<font size=\"6\" color=\"#00A0B2\"  face=\"verdana\"> <B>Example</B></font>  \n",
        "  \n",
        "review and run the code"
      ]
    },
    {
      "cell_type": "code",
      "metadata": {
        "id": "AeHCn-bECsL3",
        "colab": {
          "base_uri": "https://localhost:8080/",
          "height": 35
        },
        "outputId": "0eea1db2-dfa4-4a91-aaaa-72d5d43ed19f"
      },
      "source": [
        "def make_schedule(period1, period2):\n",
        "    schedule = (\"[1st] \" + period1.title() + \", [2nd] \" + period2.title())\n",
        "    return schedule\n",
        "\n",
        "student_schedule = make_schedule(\"mathematics\", \"history\")\n",
        "print(\"SCHEDULE:\", student_schedule)"
      ],
      "execution_count": null,
      "outputs": [
        {
          "output_type": "stream",
          "text": [
            "SCHEDULE: [1st] Mathematics, [2nd] History\n"
          ],
          "name": "stdout"
        }
      ]
    },
    {
      "cell_type": "markdown",
      "metadata": {
        "id": "fb-5zcMxCxas"
      },
      "source": [
        "# &nbsp;\n",
        "<font size=\"6\" color=\"#B24C00\"  face=\"verdana\"> <B>Task 4</B></font>\n",
        "\n",
        "## Define `make_schedule()` adding a 3rd period to &nbsp; \n",
        "- start with the above example code\n",
        "- add a parameter period_3\n",
        "- update function code to add period_3 to the schedule\n",
        "- call **`student_schedule()`** with an additional argument such as 'science'\n",
        "- print the schedule"
      ]
    },
    {
      "cell_type": "code",
      "metadata": {
        "id": "tQduZhGAC0pt",
        "colab": {
          "base_uri": "https://localhost:8080/",
          "height": 36
        },
        "outputId": "a03d2e3a-eda4-4b9e-8843-47a1c8f3ff77"
      },
      "source": [
        "# [ ] add a 3rd period parameter to make_schedule\n",
        "def make_schedule(period1, period2, period3, period4, period5, period6 ):\n",
        "    return \"SCHEDULE:\" + ( \"[1st] \" + period1.title() + \", [2nd] \" + period2.title() + \", [3rd] \" + period3.title() + \"[4th] \" + period4.title() + \", [5th] \" + period5.title() + \", [6th] \" + period6.title() )\n",
        "\n",
        "make_schedule( \"mathematics\", \"history\", \"science\", \"PE\", \"English\", \"Spanish\" )\n",
        "\n",
        "# [ ] Optional - print a schedule for 6 classes (Tip: perhaps let the function make this easy)\n",
        "\n"
      ],
      "execution_count": null,
      "outputs": [
        {
          "output_type": "execute_result",
          "data": {
            "application/vnd.google.colaboratory.intrinsic+json": {
              "type": "string"
            },
            "text/plain": [
              "'SCHEDULE:[1st] Mathematics, [2nd] History, [3rd] Science[4th] Pe, [5th] English, [6th] Spanish'"
            ]
          },
          "metadata": {
            "tags": []
          },
          "execution_count": 34
        }
      ]
    },
    {
      "cell_type": "markdown",
      "metadata": {
        "id": "suPSTIgkC7W2"
      },
      "source": [
        "# &nbsp;\n",
        "<font size=\"6\" color=\"#00A0B2\"  face=\"verdana\"> <B>Concept</B></font>\n",
        "## Sequence\n",
        "In programming, **sequence** refers to the order that code is processed.  Objects in Python, such as variables and functions, are not available until they have been processed. \n",
        "\n",
        "Processing sequence flows from the top of a page of code to the bottom. This often means that **Function definitions are placed at the beginning of a page of code.**\n",
        "\n",
        "In the sample below, the function **`hat_color`** cannot be accessed since it is initialized after it is called at the bottom of the code.  \n",
        "```python\n",
        "have_hat = hat_available('green')  \n",
        "  \n",
        "print('hat available is', have_hat)\n",
        "\n",
        "def hat_available(color):\n",
        "    hat_colors = 'black, red, blue, green, white, grey, brown, pink'\n",
        "    return(color.lower() in hat_colors)\n",
        "```  \n",
        "This results in an error - the code flows from top to bottom is in the incorrect **sequence** \n",
        "```python\n",
        "NameError: name 'hat_available' is not defined\n",
        "```\n",
        "In the statement &nbsp; **`have_hat = hat_available('green')`** &nbsp; the function &nbsp; **`hat_available()`** &nbsp; needs to be called after the function has been defined\n",
        "> **Note:** an argument or variable is said to be **hard coded** when assigned a literal or constant value.  \n",
        "    It is a good habit to avoid creating hard coded values in functions, such as  \n",
        "    `hat_colors = 'black, red, blue, green, white, grey, brown, pink'`"
      ]
    },
    {
      "cell_type": "markdown",
      "metadata": {
        "id": "H5haSRNcDR4a"
      },
      "source": [
        "## &nbsp;\n",
        "<font size=\"6\" color=\"#00A0B2\"  face=\"verdana\"> <B>Examples</B></font>"
      ]
    },
    {
      "cell_type": "code",
      "metadata": {
        "id": "4PW09juXDORC"
      },
      "source": [
        "# review and run code - note: fix error in the following \"tasks\" section\n",
        "have_hat = hat_available('green')  \n",
        "  \n",
        "print('hat available is', have_hat)\n",
        "\n",
        "def hat_available(color):\n",
        "    hat_colors = 'black, red, blue, green, white, grey, brown, pink'\n",
        "    # return Boolean\n",
        "    return(color.lower() in hat_colors)"
      ],
      "execution_count": null,
      "outputs": []
    },
    {
      "cell_type": "markdown",
      "metadata": {
        "id": "XEllACm9DUK8"
      },
      "source": [
        "# &nbsp;\n",
        "<font size=\"6\" color=\"#B24C00\"  face=\"verdana\"> <B>Task 5</B></font>\n",
        "## Change the Sequence to fix the `NameError`\n",
        "- fix the code **sequence** so the &nbsp;**`hat_available()`** &nbsp;function is availabe when called and the code runs without error"
      ]
    },
    {
      "cell_type": "code",
      "metadata": {
        "id": "pM2sVanpDYP-",
        "colab": {
          "base_uri": "https://localhost:8080/",
          "height": 35
        },
        "outputId": "78a79c66-7f11-4f71-a485-04f06429df95"
      },
      "source": [
        "# [ ] fix the sequence of the code to remove the NameError\n",
        "def hat_available(color):\n",
        "    hat_colors = 'black, red, blue, green, white, grey, brown, pink'\n",
        "    return(color.lower() in hat_colors)\n",
        "\n",
        "have_hat = hat_available('green')  \n",
        "  \n",
        "print('hat available is', have_hat)\n",
        "\n"
      ],
      "execution_count": null,
      "outputs": [
        {
          "output_type": "stream",
          "text": [
            "hat available is True\n"
          ],
          "name": "stdout"
        }
      ]
    },
    {
      "cell_type": "markdown",
      "metadata": {
        "id": "GagMpqFGDd8A"
      },
      "source": [
        "# &nbsp;\n",
        "<font size=\"6\" color=\"#00A0B2\"  face=\"verdana\"> <B>Concepts</B></font>\n",
        "## Programming Style Tip: Avoid Hard-Coding\n",
        "### \"Hard-coding\" is placing data values directly into code\n",
        "An example of hard-coding from above is **`have_hat = hat_available('green')`**  where the argument `'green'` is hard-coded\n",
        "\n",
        "A programming best practice is to **avoid hard-coding values when possible**\n",
        "- Use varibles and verse hard-coded \n",
        "- Often preferable to use input such as a configuration file (advanced topic) or user input.\n",
        "These practices allow changing the data without disturbing the main code and makes code more reusable.\n"
      ]
    },
    {
      "cell_type": "markdown",
      "metadata": {
        "id": "DEE23xmUDmnI"
      },
      "source": [
        "# &nbsp;\n",
        "<font size=\"6\" color=\"#B24C00\"  face=\"verdana\"> <B>Task 6</B></font>\n",
        "## Program: bird_available\n",
        "The program should ask for user to \"input a bird name to check for availability\" and print a statement informing of availability\n",
        "\n",
        "### create this program with a Boolean function `bird_available()`\n",
        "- has parameter that takes the name of a type of bird\n",
        "- for this exercise the variable `bird_types = 'crow robin parrot eagle sandpiper hawk piegon'`\n",
        "- return `True` or `False` (we are making a Boolean function)\n",
        "- call the function using the name of a bird type from user input\n",
        "- print a sentence that indicates the availablity of the type of bird checked\n"
      ]
    },
    {
      "cell_type": "code",
      "metadata": {
        "id": "sGZgHG-MDgGo",
        "colab": {
          "base_uri": "https://localhost:8080/",
          "height": 72
        },
        "outputId": "a68fd915-4d0c-4c39-be3a-c2d39c649706"
      },
      "source": [
        "# [ ] create function bird_available\n",
        "\n",
        "bird_types = 'crow robin parrot eagle sandpiper hawk piegon'\n",
        "def bird_available( bird ):\n",
        "  return bird in bird_types\n",
        "\n",
        "# [ ] user input\n",
        "\n",
        "desired_bird = input( ( \"We have these birds:\", bird_types, \"\\n Which one do you want? \" ) )\n",
        "\n",
        "# [ ] call bird_available\n",
        "\n",
        "status = bird_available( desired_bird )\n",
        "\n",
        "# [ ] print availbility status\n",
        "\n",
        "print( \"It is\", status, \"that we have\", desired_bird )"
      ],
      "execution_count": null,
      "outputs": [
        {
          "output_type": "stream",
          "text": [
            "We have these birds:,crow robin parrot eagle sandpiper hawk piegon,\n",
            " Which one do you want? raven\n",
            "It is False that we have raven\n"
          ],
          "name": "stdout"
        }
      ]
    },
    {
      "cell_type": "markdown",
      "metadata": {
        "id": "RbUdoKdmE1fn"
      },
      "source": [
        "# &nbsp;\n",
        "<font size=\"6\" color=\"#B24C00\"  face=\"verdana\"> <B>Task 7</B></font>\n",
        "## Fix The Error\n"
      ]
    },
    {
      "cell_type": "code",
      "metadata": {
        "id": "Gh5NMsu9E36W",
        "colab": {
          "base_uri": "https://localhost:8080/",
          "height": 54
        },
        "outputId": "addbb4a4-b3b3-4855-c4a1-a13a095824fa"
      },
      "source": [
        "# define function how_many\n",
        "def how_many():\n",
        "    requested = input(\"enter how many you want: \")\n",
        "    return requested\n",
        "\n",
        "# get the number_needed\n",
        "number_needed = how_many()\n",
        "print(number_needed, \"will be ordered\")"
      ],
      "execution_count": null,
      "outputs": [
        {
          "output_type": "stream",
          "text": [
            "enter how many you want: 3\n",
            "3 will be ordered\n"
          ],
          "name": "stdout"
        }
      ]
    },
    {
      "cell_type": "markdown",
      "metadata": {
        "id": "36sg_34IE79n"
      },
      "source": [
        "# &nbsp;\n",
        "<font size=\"6\" color=\"#B24C00\"  face=\"verdana\"> <B>Task 8.1</B></font>\n",
        "## Program: title_it_rtn\n",
        "This function should take a string as its argument and return it as a titled string. It should not print it within the function itself.\n",
        "\n"
      ]
    },
    {
      "cell_type": "code",
      "metadata": {
        "id": "3bAxJFVhFpC2",
        "colab": {
          "base_uri": "https://localhost:8080/",
          "height": 54
        },
        "outputId": "7cb5a679-58b7-4d9c-d61a-58fcf2a42f86"
      },
      "source": [
        "# [ ] define title_it_rtn() which returns a titled string instead of printing\n",
        "\n",
        "def title_it_rtn( title ):\n",
        "  return title.title()\n",
        "\n",
        "# [ ] call title_it_rtn() using input for the string argument and print the result\n",
        "\n",
        "title_it_rtn( input( \"What is the name of your book? \") )"
      ],
      "execution_count": null,
      "outputs": [
        {
          "output_type": "stream",
          "text": [
            "What is the name of your book? how to get gud at coding\n"
          ],
          "name": "stdout"
        },
        {
          "output_type": "execute_result",
          "data": {
            "application/vnd.google.colaboratory.intrinsic+json": {
              "type": "string"
            },
            "text/plain": [
              "'How To Get Gud At Coding'"
            ]
          },
          "metadata": {
            "tags": []
          },
          "execution_count": 64
        }
      ]
    },
    {
      "cell_type": "markdown",
      "metadata": {
        "id": "4syoKtbbGDkK"
      },
      "source": [
        "# &nbsp;\n",
        "<font size=\"6\" color=\"#B24C00\"  face=\"verdana\"> <B>Task 8.2</B></font>\n",
        "## Program: bookstore()\n",
        "create and test bookstore()\n",
        "- **bookstore() takes 2 string arguments: book & price**\n",
        "- **bookstore returns a string in sentence form** \n",
        "- **bookstore() should call title_it_rtn()** with book parameter  \n",
        "- **gather input for book_entry and price_entry to use in calling bookstore()**\n",
        "- **print the return value of bookstore()**\n",
        ">example of output: **`Title: The Adventures Of Sherlock Holmes, costs $12.99`**"
      ]
    },
    {
      "cell_type": "code",
      "metadata": {
        "id": "s5xQ7PwzGQ41",
        "colab": {
          "base_uri": "https://localhost:8080/",
          "height": 72
        },
        "outputId": "95c0949b-9279-4d23-ef1a-71847189646b"
      },
      "source": [
        "# [ ] create, call and test bookstore() function\n",
        "def bookstore( book, price ):\n",
        "  return \"Title: \" + book + \", costs \" + price\n",
        "\n",
        "print( bookstore( title_it_rtn( input( \"What is the name of your book? \") ), input( \"How much does this book cost? \" ) ) )\n"
      ],
      "execution_count": null,
      "outputs": [
        {
          "output_type": "stream",
          "text": [
            "What is the name of your book? how to get gud at coding\n",
            "How much does this book cost? $399.99\n",
            "Title: How To Get Gud At Coding, costs $399.99\n"
          ],
          "name": "stdout"
        }
      ]
    },
    {
      "cell_type": "markdown",
      "metadata": {
        "id": "BO2nXA2kGQZZ"
      },
      "source": [
        "# &nbsp;\n",
        "<font size=\"6\" color=\"#B24C00\"  face=\"verdana\"> <B>Task 9</B></font>\n",
        "## Fix The Error\n"
      ]
    },
    {
      "cell_type": "code",
      "metadata": {
        "id": "biYQJRuEGpNk",
        "colab": {
          "base_uri": "https://localhost:8080/",
          "height": 72
        },
        "outputId": "8db237c7-ead1-4711-eb59-81232abd8773"
      },
      "source": [
        "def make_greeting(name, greeting = \"Hello\"):\n",
        "    return (greeting + \" \" + name + \"!\")\n",
        "\n",
        "def get_name():\n",
        "    name_entry = input(\"enter a name: \")\n",
        "    return name_entry\n",
        "\n",
        "def get_greeting():\n",
        "    greeting_entry = input(\"enter a greeting: \")\n",
        "    return greeting_entry\n",
        "  \n",
        "# get name and greeting, send to make_greeting \n",
        "print(make_greeting(get_name(), get_greeting()))\n",
        "\n",
        "\n",
        "\n",
        "\n",
        "\n"
      ],
      "execution_count": null,
      "outputs": [
        {
          "output_type": "stream",
          "text": [
            "enter a name: john\n",
            "enter a greeting: oi\n",
            "oi john!\n"
          ],
          "name": "stdout"
        }
      ]
    }
  ]
}