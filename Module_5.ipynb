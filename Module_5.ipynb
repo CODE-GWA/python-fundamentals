{
  "nbformat": 4,
  "nbformat_minor": 0,
  "metadata": {
    "anaconda-cloud": {},
    "kernelspec": {
      "display_name": "Python [default]",
      "language": "python",
      "name": "python3"
    },
    "language_info": {
      "codemirror_mode": {
        "name": "ipython",
        "version": 3
      },
      "file_extension": ".py",
      "mimetype": "text/x-python",
      "name": "python",
      "nbconvert_exporter": "python",
      "pygments_lexer": "ipython3",
      "version": "3.5.2"
    },
    "colab": {
      "name": "Module 5",
      "provenance": [],
      "collapsed_sections": [],
      "include_colab_link": true
    }
  },
  "cells": [
    {
      "cell_type": "markdown",
      "metadata": {
        "id": "view-in-github",
        "colab_type": "text"
      },
      "source": [
        "<a href=\"https://colab.research.google.com/github/CODE-GWA/python-fundamentals-student/blob/master/Module_5.ipynb\" target=\"_parent\"><img src=\"https://colab.research.google.com/assets/colab-badge.svg\" alt=\"Open In Colab\"/></a>"
      ]
    },
    {
      "cell_type": "markdown",
      "metadata": {
        "id": "AUuvlX5vyDuP"
      },
      "source": [
        "# 5 Python Intro  \n",
        "## conditionals, type, and mathematics extended  \n",
        "- **conditionals: `elif`**\n",
        "- **casting**  \n",
        "- basic math operators  \n",
        "\n"
      ]
    },
    {
      "cell_type": "markdown",
      "metadata": {
        "id": "1fTzZgt5yDuU"
      },
      "source": [
        "# &nbsp;\n",
        "<font size=\"6\" color=\"#00A0B2\"  face=\"verdana\"> <B>Concepts</B></font>\n",
        "## conditional `elif`\n",
        "\n",
        "### a little review  \n",
        "- **`if`** means \"**if** a condition exists then do some task.\" **`if`** is usually followed by **`else`**  \n",
        "- **`else`** means \"**or else** after we have tested **if**, then do an alternative task\"  \n",
        "\n",
        "When there  is a need to test for multiple conditions there is&nbsp; **`elif`**\n",
        "- **`elif`**&nbsp; statement follows &nbsp;**`if`**, and means **\"else, if \"** another condition exists do something else\n",
        "- **`elif`**&nbsp; can be used many times\n",
        "- **`else`**&nbsp; is used after the last test condition (**`if`** or **`elif`**)\n",
        "\n",
        "#### in psuedo code  \n",
        "**If** it is raining bring an umbrella  \n",
        "or **Else If** &nbsp;(`elif`) it is snowing bring a warm coat  \n",
        "or **Else** go as usual  \n",
        "\n",
        "Like **`else`**, the **`elif`** only executes when the previous conditional is False"
      ]
    },
    {
      "cell_type": "markdown",
      "metadata": {
        "collapsed": true,
        "id": "1-eeGUMRyDuZ"
      },
      "source": [
        "# &nbsp;\n",
        "<font size=\"6\" color=\"#00A0B2\"  face=\"verdana\"> <B>Examples</B></font>"
      ]
    },
    {
      "cell_type": "code",
      "metadata": {
        "id": "1U7CSaNlyDud",
        "colab": {
          "base_uri": "https://localhost:8080/",
          "height": 54
        },
        "outputId": "fef81a98-7ab4-4cc3-a782-c7a30ec5199d"
      },
      "source": [
        "# [ ] review the code then run testing different inputs\n",
        "# WHAT TO WEAR\n",
        "weather = input(\"Enter weather (sunny, rainy, snowy): \") \n",
        "\n",
        "if weather.lower() == \"sunny\":\n",
        "    print(\"Wear a t-shirt\")\n",
        "elif weather.lower() == \"rainy\":\n",
        "    print(\"Bring an umbrella and boots\")\n",
        "elif weather.lower() == \"snowy\":\n",
        "    print(\"Wear a warm coat and hat\")\n",
        "else:\n",
        "    print(\"Sorry, not sure what to suggest for\", weather)"
      ],
      "execution_count": null,
      "outputs": [
        {
          "output_type": "stream",
          "text": [
            "Enter weather (sunny, rainy, snowy): snowy\n",
            "Wear a warm coat and hat\n"
          ],
          "name": "stdout"
        }
      ]
    },
    {
      "cell_type": "code",
      "metadata": {
        "id": "ZNbk_x2xyDu0",
        "colab": {
          "base_uri": "https://localhost:8080/",
          "height": 54
        },
        "outputId": "7d486038-0796-45e5-c9ec-3c07cbf9b92e"
      },
      "source": [
        "# [ ] review the code then run testing different inputs\n",
        "# SECRET NUMBER GUESS\n",
        "secret_num = \"2\"\n",
        "\n",
        "guess = input(\"Enter a guess for the secret number (1-3): \")\n",
        "\n",
        "if guess.isdigit() == False:\n",
        "    print(\"Invalid: guess should only use digits\")\n",
        "elif guess == \"1\":\n",
        "    print(\"Guess is too low\")\n",
        "elif guess == secret_num:\n",
        "    print(\"Guess is right\")\n",
        "elif guess == \"3\":\n",
        "    print(\"Guess is too high\")\n",
        "else:\n",
        "    print(guess, \"is not a valid guess (1-3)\")"
      ],
      "execution_count": null,
      "outputs": [
        {
          "output_type": "stream",
          "text": [
            "Enter a guess for the secret number (1-3): 2\n",
            "Guess is right\n"
          ],
          "name": "stdout"
        }
      ]
    },
    {
      "cell_type": "markdown",
      "metadata": {
        "id": "sfqbXbtUyDvC"
      },
      "source": [
        "# &nbsp;\n",
        "<font size=\"6\" color=\"#B24C00\"  face=\"verdana\"> <B>Task 1</B></font>\n",
        "\n",
        "## Program: Shirt Sale\n",
        "### Complete program using &nbsp; `if, elif, else`\n",
        "- Get user input for variable size (S, M, L)\n",
        "- reply with each shirt size and price (Small = \\$ 6, Medium = \\$ 7, Large = \\$ 8)\n",
        "- if the reply is other than S, M, L, give a message for not available\n",
        "- *optional*: add additional sizes"
      ]
    },
    {
      "cell_type": "code",
      "metadata": {
        "id": "BuA7kXJKyDvE"
      },
      "source": [
        ""
      ],
      "execution_count": null,
      "outputs": []
    },
    {
      "cell_type": "markdown",
      "metadata": {
        "id": "AZiJovzByDvO"
      },
      "source": [
        "# &nbsp;\n",
        "<font size=\"6\" color=\"#00A0B2\"  face=\"verdana\"> <B>Concepts</B></font>\n",
        "## casting\n",
        "Casting is the conversion from one data type to another such as converting from **`str`** to **`int`**.\n",
        "\n",
        "### `int()`\n",
        "the **`int()`** function can convert stings that represent whole counting numbers into integers and strip decimals to convert float numbers to integers\n",
        "- `int(\"1\") = 1` &nbsp; the string representing the integer character `\"1\"`, cast to a number \n",
        "- `int(5.1) = 5` &nbsp; the decimal (float), `5.1`, truncated into a non-decimal (integer). It will always round down.\n",
        "- `int(\"5.1\") = ValueError` &nbsp; `\"5.1\"` isn't a string representation of integer, `int()` can cast only strings representing integer values  \n",
        "\n",
        "### `float()`\n",
        "the **`float()`** function is the same as **`int()`**, though converts data types into **`float`** \n",
        "\n",
        "### `str()`\n",
        "the **`float()`** function is the same as **`int()`**, though converts data types into **`string`**. Any character can be converted into a string.\n"
      ]
    },
    {
      "cell_type": "markdown",
      "metadata": {
        "id": "5ig96GnWyDvT"
      },
      "source": [
        "# &nbsp;\n",
        "<font size=\"6\" color=\"#00A0B2\"  face=\"verdana\"> <B>Example</B></font>"
      ]
    },
    {
      "cell_type": "code",
      "metadata": {
        "id": "oLxuKdIXyDvW",
        "colab": {
          "base_uri": "https://localhost:8080/",
          "height": 35
        },
        "outputId": "ff596336-ca2d-4ea2-912b-a7ae1af04e87"
      },
      "source": [
        "weight1 = '60' # a string\n",
        "weight2 = 170 # an integer\n",
        "# add 2 integers\n",
        "total_weight = int(weight1) + weight2\n",
        "print(total_weight)"
      ],
      "execution_count": null,
      "outputs": [
        {
          "output_type": "stream",
          "text": [
            "230\n"
          ],
          "name": "stdout"
        }
      ]
    },
    {
      "cell_type": "code",
      "metadata": {
        "id": "J8npAyrnbRXO",
        "colab": {
          "base_uri": "https://localhost:8080/",
          "height": 35
        },
        "outputId": "a806fb72-7da3-49b5-bfdb-41beaac5892d"
      },
      "source": [
        "weight1 = 70.5 # a float\n",
        "weight2 = 170 # an integer\n",
        "# add 2 integers\n",
        "total_weight = int(weight1) + weight2\n",
        "print(total_weight)"
      ],
      "execution_count": null,
      "outputs": [
        {
          "output_type": "stream",
          "text": [
            "240\n"
          ],
          "name": "stdout"
        }
      ]
    },
    {
      "cell_type": "markdown",
      "metadata": {
        "id": "MtadQRfcyDvk"
      },
      "source": [
        "# &nbsp;\n",
        "<font size=\"6\" color=\"#B24C00\"  face=\"verdana\"> <B>Task 2</B></font>\n",
        "## casting with `int()` & `str()`"
      ]
    },
    {
      "cell_type": "code",
      "metadata": {
        "id": "6nGRnqSRyDvm"
      },
      "source": [
        "\n"
      ],
      "execution_count": null,
      "outputs": []
    },
    {
      "cell_type": "markdown",
      "metadata": {
        "id": "vxTjrdzhyDwJ"
      },
      "source": [
        "# &nbsp;\n",
        "<font size=\"6\" color=\"#00A0B2\"  face=\"verdana\"> <B>Concepts</B></font>\n",
        "## `input()`  strings that represent numbers can be \"cast\" to integer values\n"
      ]
    },
    {
      "cell_type": "markdown",
      "metadata": {
        "id": "7bioor5syDwM"
      },
      "source": [
        "# &nbsp;\n",
        "<font size=\"6\" color=\"#00A0B2\"  face=\"verdana\"> <B>Example</B></font>"
      ]
    },
    {
      "cell_type": "code",
      "metadata": {
        "id": "1hHcQ0ETyDwO",
        "colab": {
          "base_uri": "https://localhost:8080/",
          "height": 54
        },
        "outputId": "8bef0eee-e9f1-486c-b855-29bb258c1765"
      },
      "source": [
        "# [ ] review and run code\n",
        "student_age = input('enter age (integer): ')\n",
        "age_next_year = int(student_age) + 1\n",
        "print('Next year, you will be',age_next_year)"
      ],
      "execution_count": null,
      "outputs": [
        {
          "output_type": "stream",
          "text": [
            "enter age (integer): 17\n",
            "Next year, you will be 18\n"
          ],
          "name": "stdout"
        }
      ]
    },
    {
      "cell_type": "code",
      "metadata": {
        "id": "PzzoV7XhyDwY",
        "colab": {
          "base_uri": "https://localhost:8080/",
          "height": 54
        },
        "outputId": "1619f0eb-e1f8-42df-9975-e9c8297a6fb7"
      },
      "source": [
        "# [ ] review and run code\n",
        "# cast to int at input\n",
        "student_age = int(input('enter  age (integer): '))\n",
        "\n",
        "age_in_decade = student_age + 10\n",
        "\n",
        "print('In a decade, you will be', age_in_decade)"
      ],
      "execution_count": null,
      "outputs": [
        {
          "output_type": "stream",
          "text": [
            "enter  age (integer): 17\n",
            "In a decade, you will be 27\n"
          ],
          "name": "stdout"
        }
      ]
    },
    {
      "cell_type": "markdown",
      "metadata": {
        "collapsed": true,
        "id": "j0UZ2kHhyDwg"
      },
      "source": [
        "# &nbsp;\n",
        "<font size=\"6\" color=\"#B24C00\"  face=\"verdana\"> <B>Task 3.1</B></font>\n",
        "## Program: addition calculator\n",
        "- create a function that adds 2 numbers\n",
        "- get input of 2 numbers\n",
        "- cast the input and print the input followed by the result\n",
        "- check if input is a digit before trying addition to avoid errors in casting invalid inputs"
      ]
    },
    {
      "cell_type": "code",
      "metadata": {
        "id": "JtxvduEiyDwh"
      },
      "source": [
        "\n"
      ],
      "execution_count": null,
      "outputs": []
    },
    {
      "cell_type": "markdown",
      "metadata": {
        "id": "tZVOINpUdrnM"
      },
      "source": [
        "# &nbsp;\n",
        "<font size=\"6\" color=\"#B24C00\"  face=\"verdana\"> <B>Task 3.2</B></font>\n",
        "## Program: general calculator\n",
        "- alter the previous calculator into one that can add, subtract, divide, multiply, and exponentiate\n",
        "  - decide on whether you want to create a function for each operation\n",
        "- get an additional input of the desired operation. Inputs could either be symbols (+,-,*,/,^) or words (add, subtract, multiply, divide, exponentiate). Ensure that the input message clarifies the format of the input\n",
        "  - return a message akin to \"Invalid operator\" if the inputted operation does not match the appropiate format\n"
      ]
    },
    {
      "cell_type": "code",
      "metadata": {
        "id": "N2pqzlB6fj76"
      },
      "source": [
        ""
      ],
      "execution_count": null,
      "outputs": []
    },
    {
      "cell_type": "markdown",
      "metadata": {
        "id": "dvzCaVRhgUep"
      },
      "source": [
        "# &nbsp;\n",
        "<font size=\"6\" color=\"#B24C00\"  face=\"verdana\"> <B>Task 4</B></font>\n",
        "## Program: odd or even?\n",
        "- create a function that determines whether an inputted number is odd or even\n",
        "- if the input is not a digit, return an invalid input message"
      ]
    },
    {
      "cell_type": "code",
      "metadata": {
        "id": "4eMOL9U_g9WD"
      },
      "source": [
        ""
      ],
      "execution_count": null,
      "outputs": []
    },
    {
      "cell_type": "markdown",
      "metadata": {
        "id": "GX5Q8fufg9la"
      },
      "source": [
        "# &nbsp;\n",
        "<font size=\"6\" color=\"#B24C00\"  face=\"verdana\"> <B>Task 5.1</B></font>\n",
        "## Program: Pizza Order    \n",
        "\n",
        "- create a function that responds to a pizza order based on the size of the ordered pizza\n",
        "- set values for maximum and minimum order sizes  \n",
        "- set value for price per size\n",
        "- get an input for the order size and cast to a number  \n",
        "- check the input and give message checking against  \n",
        "  - over maximum\n",
        "  - under minimum\n",
        "  - a valid order (is a digit)\n",
        "- else within maximum and minimum give message with calculated price. This should have two decimal places at the end\n",
        "\n",
        "\n",
        "Sample input and output:\n",
        "\n",
        "```\n",
        "Hello! Our pizza sizes range from 20\" to 30\". 1\" of pizza costs $3\n",
        "Enter pizza size (numeric value): 14\n",
        "Sorry, but we don't sell 14\" pizzas\n",
        "```\n",
        "\n",
        "```\n",
        "Hello! Our pizza sizes range from 20\" to 30\". 1\" of pizza costs $3\n",
        "Enter pizza size (numeric value): 420\n",
        "Sorry, but we don't sell 420\" pizzas\n",
        "```  \n",
        "\n",
        "```\n",
        "Hello! Our pizza sizes range from 20\" to 30\". 1\" of pizza costs $3\n",
        "Enter pizza size (numeric value): can i habe a pizza pls bosss\n",
        "Sorry, could you please repeat that?\n",
        "```  \n",
        "\n",
        "```\n",
        "Hello! Our pizza sizes range from 20\" to 30\". 1\" of pizza costs $3\n",
        "Enter cheese order weight (numeric value): 25\n",
        "A 25\" pizza will cost you $75.00\n",
        "```  "
      ]
    },
    {
      "cell_type": "code",
      "metadata": {
        "id": "9zjwq5J8jMXw"
      },
      "source": [
        "\n"
      ],
      "execution_count": null,
      "outputs": []
    },
    {
      "cell_type": "markdown",
      "metadata": {
        "id": "vYARh4r9jMwe"
      },
      "source": [
        "# &nbsp;\n",
        "<font size=\"6\" color=\"#B24C00\"  face=\"verdana\"> <B>Task 5.2</B></font>\n",
        "## Program: Pizza Order    \n",
        "\n",
        "- edit the pizza order function so that it requests for the desired pizza type\n",
        "\n",
        "Sample input and output:\n",
        "\n",
        "```\n",
        "Hello! Our pizza sizes range from 20\" to 30\". 1\" of a Pepperoni Pizza costs $3. 1\" of a Vegetarian Pizza costs $8.\n",
        "Enter pizza size (numeric value): 23\n",
        "Enter pizza type (numeric value): Pepperoni\n",
        "A 23\" Pepperoni pizza will cost you $69.00\n",
        "```\n",
        "\n",
        "```\n",
        "Hello! Our pizza sizes range from 20\" to 30\". 1\" of a Pepperoni Pizza costs $3. 1\" of a Vegetarian Pizza costs $8.\n",
        "Enter pizza size (numeric value): 23\n",
        "Enter pizza type (numeric value): Creampie\n",
        "Sorry, but we don't sell Creampie pizzas\n",
        "```\n",
        "\n",
        "```\n",
        "Hello! Our pizza sizes range from 20\" to 30\". 1\" of a Pepperoni Pizza costs $3. 1\" of a Vegetarian Pizza costs $8.\n",
        "Enter pizza size (numeric value): 12\n",
        "Enter pizza type (numeric value): pizza\n",
        "Sorry, we don't sell 12\" pizzas, nor do we have a pizza pizza\n",
        "```"
      ]
    },
    {
      "cell_type": "code",
      "metadata": {
        "id": "fgdGA3zbk3-T"
      },
      "source": [
        ""
      ],
      "execution_count": null,
      "outputs": []
    }
  ]
}